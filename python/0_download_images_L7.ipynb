{
 "cells": [
  {
   "cell_type": "code",
   "execution_count": null,
   "metadata": {},
   "outputs": [],
   "source": [
    "# Download survey GeoTiffs from Landsat 7\n",
    "\n",
    "New, faster method for downloading DHS cluster images! Based on [this blog post by Noel Gorelick](https://gorelick.medium.com/fast-er-downloads-a2abd512aa26).\n",
    "\n",
    "Cindy Conlin modified this code originally developed by Markus Pettersson. "
   ]
  },
  {
   "cell_type": "markdown",
   "metadata": {
    "pycharm": {
     "name": "#%% md\n"
    }
   },
   "source": [
    "Import, authenticate and initialize the earth-engine library"
   ]
  },
  {
   "cell_type": "code",
   "execution_count": null,
   "metadata": {
    "pycharm": {
     "name": "#%%\n"
    }
   },
   "outputs": [],
   "source": [
    "import ee\n",
    "\n",
    "ee.Authenticate()\n",
    "\n",
    "# Initialize the Google Earth Engine API with the high volume end-point.\n",
    "# See https://developers.google.com/earth-engine/cloud/highvolume\n",
    "ee.Initialize(opt_url='https://earthengine-highvolume.googleapis.com')"
   ]
  },
  {
   "cell_type": "code",
   "execution_count": null,
   "metadata": {},
   "outputs": [],
   "source": [
    "# Import other libraries\n",
    "import pandas as pd\n",
    "import os\n",
    "import satellite_sampling_L7\n",
    "import datetime"
   ]
  },
  {
   "cell_type": "markdown",
   "metadata": {
    "pycharm": {
     "name": "#%% md\n"
    }
   },
   "source": [
    "Read the csv file with survey points"
   ]
  },
  {
   "cell_type": "code",
   "execution_count": null,
   "metadata": {},
   "outputs": [],
   "source": [
    "data_dir = '/mimer/NOBACKUP/groups/globalpoverty1/cindy/eoml_ch_wb/data/'\n",
    "dhs_cluster_file_path = os.path.join(data_dir, 'AIGlobalLab/dhs_clusters.csv')\n",
    "df = pd.read_csv(dhs_cluster_file_path)\n",
    "df.head()"
   ]
  },
  {
   "cell_type": "markdown",
   "metadata": {
    "pycharm": {
     "name": "#%% md\n"
    }
   },
   "source": [
    "Split the dataframe into each country-year combination:"
   ]
  },
  {
   "cell_type": "code",
   "execution_count": null,
   "metadata": {},
   "outputs": [],
   "source": [
    "surveys_with_dfs = [(survey, survey_df.reset_index(drop=True)) for survey, survey_df in \n",
    "                    df.groupby(['country', 'year'])]"
   ]
  },
  {
   "cell_type": "markdown",
   "metadata": {},
   "source": [
    "Function for checking if sample is already downloaded, in case the script needs to be restarted for some reason"
   ]
  },
  {
   "cell_type": "code",
   "execution_count": null,
   "metadata": {},
   "outputs": [],
   "source": [
    "def check_if_downloaded(row, save_dir, min_file_size=3145728):\n",
    "    file_name = f'{row.name:05d}.tif'\n",
    "    file_path = os.path.join(save_dir, file_name)\n",
    "    \n",
    "    # Check if file exists and is larger than min_file_size\n",
    "    return os.path.isfile(file_path) and (os.stat(file_path).st_size > min_file_size)"
   ]
  },
  {
   "cell_type": "markdown",
   "metadata": {},
   "source": [
    "Download each survey from Google Earth Engine"
   ]
  },
  {
   "cell_type": "code",
   "execution_count": null,
   "metadata": {},
   "outputs": [],
   "source": [
    "for survey, survey_df in surveys_with_dfs:\n",
    "    country, year = survey\n",
    "    #download only country years used in analysis\n",
    "    if f\"{year}{country}\" not in [\n",
    "        \"1999burkina_faso\",\n",
    "        \"1999ghana\",\n",
    "        \"1999guinea\",\n",
    "        \"1999ivory_coast\",\n",
    "        \"1999tanzania\",\n",
    "        \"1999zimbabwe\",\n",
    "        \"1998niger\",\n",
    "        \"1998togo\",\n",
    "        \"1997madagascar\",\n",
    "        \"1997senegal\",\n",
    "        \"1996benin\",\n",
    "        \"1996egypt\",\n",
    "        \"1996mali\",\n",
    "        \"1995central_african_republic\",\n",
    "        \"1991cameroon\",\n",
    "        \"2000ethiopia\",\n",
    "        \"2000malawi\",\n",
    "        \"2000namibia\",\n",
    "        \"2000uganda\",\n",
    "        \"2003kenya\",\n",
    "        \"2003morocco\",\n",
    "        \"2003nigeria\",\n",
    "        \"2004lesotho\",\n",
    "        \"2005rwanda\",\n",
    "        \"2006angola\",\n",
    "        \"2006eswatini\",\n",
    "        \"2007democratic_republic_of_congo\",\n",
    "        \"2007zambia\",\n",
    "        \"2008liberia\",\n",
    "        \"2008sierra_leone\",\n",
    "        \"2010burundi\",\n",
    "        \"2011mozambique\",\n",
    "        \"2012comoros\",\n",
    "        \"2012gabon\",\n",
    "        \"2014chad\",\n",
    "        \"2016south_africa\"\n",
    "    ]:    \n",
    "        continue\n",
    "    \n",
    "    print(f'Downloading images for {country}-{year}...'+\n",
    "        datetime.datetime.now().strftime(\"%d.%b %Y %H:%M:%S\"))\n",
    "       \n",
    "    save_dir = os.path.join(data_dir, f'dhs_tifs_L7/{country}_{year}')      \n",
    "           \n",
    "    # Check if survey is already fully/partially downloaded\n",
    "    if os.path.exists(save_dir):\n",
    "        is_downloaded = survey_df.apply(lambda row: check_if_downloaded(row, save_dir), axis=1)\n",
    "        samples_to_download = survey_df[~is_downloaded]\n",
    "    else:\n",
    "        os.makedirs(save_dir)\n",
    "        samples_to_download = survey_df\n",
    "    \n",
    "    # If there are no samples to download for this survey, continue\n",
    "    if len(samples_to_download) == 0:    \n",
    "        continue\n",
    "    \n",
    "    satellite_sampling_L7.export_images(samples_to_download, save_dir, span_length=1)"
   ]
  },
  {
   "cell_type": "code",
   "execution_count": null,
   "metadata": {},
   "outputs": [],
   "source": []
  },
  {
   "cell_type": "code",
   "execution_count": null,
   "metadata": {},
   "outputs": [],
   "source": []
  },
  {
   "cell_type": "code",
   "execution_count": null,
   "metadata": {},
   "outputs": [],
   "source": []
  }
 ],
 "metadata": {
  "kernelspec": {
   "display_name": "Python 3 (ipykernel)",
   "language": "python",
   "name": "python3"
  },
  "language_info": {
   "codemirror_mode": {
    "name": "ipython",
    "version": 3
   },
   "file_extension": ".py",
   "mimetype": "text/x-python",
   "name": "python",
   "nbconvert_exporter": "python",
   "pygments_lexer": "ipython3",
   "version": "3.8.13"
  }
 },
 "nbformat": 4,
 "nbformat_minor": 4
}
