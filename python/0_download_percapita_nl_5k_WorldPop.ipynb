{
 "cells": [
  {
   "cell_type": "markdown",
   "metadata": {},
   "source": [
    "# Download annual per capita nightlights \n",
    "\n",
    "Create a csv file with annual per capita nightlight values over DHS clusters, for years 2000 to 2013."
   ]
  },
  {
   "cell_type": "markdown",
   "metadata": {
    "pycharm": {
     "name": "#%% md\n"
    }
   },
   "source": [
    "Import, authenticate and initialize the earth-engine library"
   ]
  },
  {
   "cell_type": "code",
   "execution_count": 1,
   "metadata": {
    "pycharm": {
     "name": "#%%\n"
    }
   },
   "outputs": [
    {
     "data": {
      "text/html": [
       "<p>To authorize access needed by Earth Engine, open the following\n",
       "        URL in a web browser and follow the instructions:</p>\n",
       "        <p><a href=https://code.earthengine.google.com/client-auth?scopes=https%3A//www.googleapis.com/auth/earthengine%20https%3A//www.googleapis.com/auth/devstorage.full_control&request_id=tCo5_eybl22mdNuH_je_KdtCAXGr4qwSdapg6FaeEEY&tc=VNmYfLcJhyq4feoXVjy52fXpNIGZdk-HuoCih29TLkQ&cc=WniQidqC-rr4QxdacpMEf1eXkdyE6oBUzf2aZCVMvcg>https://code.earthengine.google.com/client-auth?scopes=https%3A//www.googleapis.com/auth/earthengine%20https%3A//www.googleapis.com/auth/devstorage.full_control&request_id=tCo5_eybl22mdNuH_je_KdtCAXGr4qwSdapg6FaeEEY&tc=VNmYfLcJhyq4feoXVjy52fXpNIGZdk-HuoCih29TLkQ&cc=WniQidqC-rr4QxdacpMEf1eXkdyE6oBUzf2aZCVMvcg</a></p>\n",
       "        <p>The authorization workflow will generate a code, which you should paste in the box below.</p>\n",
       "        "
      ],
      "text/plain": [
       "<IPython.core.display.HTML object>"
      ]
     },
     "metadata": {},
     "output_type": "display_data"
    },
    {
     "name": "stdout",
     "output_type": "stream",
     "text": [
      "Enter verification code: 4/1AfJohXl4E5fa6AxZw0FPM3fPNMJtV11IHsWBfqO6QEsQHVsMe1T3aczBGxA\n",
      "\n",
      "Successfully saved authorization token.\n"
     ]
    }
   ],
   "source": [
    "import ee\n",
    "\n",
    "ee.Authenticate()\n",
    "\n",
    "ee.Initialize()"
   ]
  },
  {
   "cell_type": "code",
   "execution_count": 8,
   "metadata": {},
   "outputs": [],
   "source": [
    "# Import other libraries\n",
    "import csv\n",
    "import os\n",
    "import pandas as pd"
   ]
  },
  {
   "cell_type": "markdown",
   "metadata": {
    "pycharm": {
     "name": "#%% md\n"
    }
   },
   "source": [
    "Read the csv file with survey points"
   ]
  },
  {
   "cell_type": "code",
   "execution_count": 9,
   "metadata": {},
   "outputs": [
    {
     "data": {
      "text/html": [
       "<div>\n",
       "<style scoped>\n",
       "    .dataframe tbody tr th:only-of-type {\n",
       "        vertical-align: middle;\n",
       "    }\n",
       "\n",
       "    .dataframe tbody tr th {\n",
       "        vertical-align: top;\n",
       "    }\n",
       "\n",
       "    .dataframe thead th {\n",
       "        text-align: right;\n",
       "    }\n",
       "</style>\n",
       "<table border=\"1\" class=\"dataframe\">\n",
       "  <thead>\n",
       "    <tr style=\"text-align: right;\">\n",
       "      <th></th>\n",
       "      <th>country</th>\n",
       "      <th>survey_start_year</th>\n",
       "      <th>year</th>\n",
       "      <th>lat</th>\n",
       "      <th>lon</th>\n",
       "      <th>households</th>\n",
       "      <th>rural</th>\n",
       "      <th>iwi</th>\n",
       "      <th>dhs_id</th>\n",
       "      <th>image_file</th>\n",
       "      <th>...</th>\n",
       "      <th>iwi_1990_1992_est</th>\n",
       "      <th>iwi_1993_1995_est</th>\n",
       "      <th>iwi_1996_1998_est</th>\n",
       "      <th>iwi_1999_2001_est</th>\n",
       "      <th>iwi_2002_2004_est</th>\n",
       "      <th>iwi_2005_2007_est</th>\n",
       "      <th>iwi_2008_2010_est</th>\n",
       "      <th>iwi_2011_2013_est</th>\n",
       "      <th>iwi_2014_2016_est</th>\n",
       "      <th>iwi_2017_2019_est</th>\n",
       "    </tr>\n",
       "  </thead>\n",
       "  <tbody>\n",
       "    <tr>\n",
       "      <th>0</th>\n",
       "      <td>south_africa</td>\n",
       "      <td>2016</td>\n",
       "      <td>2016</td>\n",
       "      <td>-34.463232</td>\n",
       "      <td>19.542468</td>\n",
       "      <td>6</td>\n",
       "      <td>1</td>\n",
       "      <td>70.723295</td>\n",
       "      <td>48830</td>\n",
       "      <td>./data/dhs_tifs/south_africa_2016/00743.tif</td>\n",
       "      <td>...</td>\n",
       "      <td>35.205078</td>\n",
       "      <td>30.981445</td>\n",
       "      <td>33.911133</td>\n",
       "      <td>43.969727</td>\n",
       "      <td>38.295898</td>\n",
       "      <td>33.579102</td>\n",
       "      <td>32.757568</td>\n",
       "      <td>38.330078</td>\n",
       "      <td>44.604492</td>\n",
       "      <td>49.267578</td>\n",
       "    </tr>\n",
       "    <tr>\n",
       "      <th>1</th>\n",
       "      <td>south_africa</td>\n",
       "      <td>2016</td>\n",
       "      <td>2016</td>\n",
       "      <td>-34.418873</td>\n",
       "      <td>19.188926</td>\n",
       "      <td>11</td>\n",
       "      <td>0</td>\n",
       "      <td>76.798705</td>\n",
       "      <td>48781</td>\n",
       "      <td>./data/dhs_tifs/south_africa_2016/00694.tif</td>\n",
       "      <td>...</td>\n",
       "      <td>49.243164</td>\n",
       "      <td>53.222656</td>\n",
       "      <td>56.298830</td>\n",
       "      <td>59.228516</td>\n",
       "      <td>60.986330</td>\n",
       "      <td>63.515630</td>\n",
       "      <td>66.223145</td>\n",
       "      <td>66.455080</td>\n",
       "      <td>66.137695</td>\n",
       "      <td>64.501953</td>\n",
       "    </tr>\n",
       "    <tr>\n",
       "      <th>2</th>\n",
       "      <td>south_africa</td>\n",
       "      <td>2016</td>\n",
       "      <td>2016</td>\n",
       "      <td>-34.412835</td>\n",
       "      <td>19.178965</td>\n",
       "      <td>4</td>\n",
       "      <td>0</td>\n",
       "      <td>81.053723</td>\n",
       "      <td>48828</td>\n",
       "      <td>./data/dhs_tifs/south_africa_2016/00741.tif</td>\n",
       "      <td>...</td>\n",
       "      <td>48.388672</td>\n",
       "      <td>51.977540</td>\n",
       "      <td>54.443360</td>\n",
       "      <td>58.715820</td>\n",
       "      <td>60.419923</td>\n",
       "      <td>63.037110</td>\n",
       "      <td>66.430664</td>\n",
       "      <td>65.934247</td>\n",
       "      <td>66.186523</td>\n",
       "      <td>64.257810</td>\n",
       "    </tr>\n",
       "    <tr>\n",
       "      <th>3</th>\n",
       "      <td>south_africa</td>\n",
       "      <td>2016</td>\n",
       "      <td>2016</td>\n",
       "      <td>-34.292107</td>\n",
       "      <td>19.563813</td>\n",
       "      <td>6</td>\n",
       "      <td>1</td>\n",
       "      <td>72.766880</td>\n",
       "      <td>48787</td>\n",
       "      <td>./data/dhs_tifs/south_africa_2016/00700.tif</td>\n",
       "      <td>...</td>\n",
       "      <td>21.789551</td>\n",
       "      <td>22.222900</td>\n",
       "      <td>20.300293</td>\n",
       "      <td>25.082397</td>\n",
       "      <td>27.207032</td>\n",
       "      <td>27.719727</td>\n",
       "      <td>26.947020</td>\n",
       "      <td>34.114584</td>\n",
       "      <td>36.865234</td>\n",
       "      <td>42.041016</td>\n",
       "    </tr>\n",
       "    <tr>\n",
       "      <th>4</th>\n",
       "      <td>south_africa</td>\n",
       "      <td>2016</td>\n",
       "      <td>2016</td>\n",
       "      <td>-34.187500</td>\n",
       "      <td>22.113079</td>\n",
       "      <td>3</td>\n",
       "      <td>0</td>\n",
       "      <td>77.864113</td>\n",
       "      <td>48756</td>\n",
       "      <td>./data/dhs_tifs/south_africa_2016/00669.tif</td>\n",
       "      <td>...</td>\n",
       "      <td>44.042970</td>\n",
       "      <td>46.875000</td>\n",
       "      <td>49.617514</td>\n",
       "      <td>48.321533</td>\n",
       "      <td>53.232420</td>\n",
       "      <td>56.865233</td>\n",
       "      <td>65.014650</td>\n",
       "      <td>65.657550</td>\n",
       "      <td>72.900390</td>\n",
       "      <td>67.529297</td>\n",
       "    </tr>\n",
       "  </tbody>\n",
       "</table>\n",
       "<p>5 rows × 21 columns</p>\n",
       "</div>"
      ],
      "text/plain": [
       "        country  survey_start_year  year        lat        lon  households  \\\n",
       "0  south_africa               2016  2016 -34.463232  19.542468           6   \n",
       "1  south_africa               2016  2016 -34.418873  19.188926          11   \n",
       "2  south_africa               2016  2016 -34.412835  19.178965           4   \n",
       "3  south_africa               2016  2016 -34.292107  19.563813           6   \n",
       "4  south_africa               2016  2016 -34.187500  22.113079           3   \n",
       "\n",
       "   rural        iwi  dhs_id                                   image_file  ...  \\\n",
       "0      1  70.723295   48830  ./data/dhs_tifs/south_africa_2016/00743.tif  ...   \n",
       "1      0  76.798705   48781  ./data/dhs_tifs/south_africa_2016/00694.tif  ...   \n",
       "2      0  81.053723   48828  ./data/dhs_tifs/south_africa_2016/00741.tif  ...   \n",
       "3      1  72.766880   48787  ./data/dhs_tifs/south_africa_2016/00700.tif  ...   \n",
       "4      0  77.864113   48756  ./data/dhs_tifs/south_africa_2016/00669.tif  ...   \n",
       "\n",
       "  iwi_1990_1992_est  iwi_1993_1995_est  iwi_1996_1998_est  iwi_1999_2001_est  \\\n",
       "0         35.205078          30.981445          33.911133          43.969727   \n",
       "1         49.243164          53.222656          56.298830          59.228516   \n",
       "2         48.388672          51.977540          54.443360          58.715820   \n",
       "3         21.789551          22.222900          20.300293          25.082397   \n",
       "4         44.042970          46.875000          49.617514          48.321533   \n",
       "\n",
       "   iwi_2002_2004_est  iwi_2005_2007_est  iwi_2008_2010_est  iwi_2011_2013_est  \\\n",
       "0          38.295898          33.579102          32.757568          38.330078   \n",
       "1          60.986330          63.515630          66.223145          66.455080   \n",
       "2          60.419923          63.037110          66.430664          65.934247   \n",
       "3          27.207032          27.719727          26.947020          34.114584   \n",
       "4          53.232420          56.865233          65.014650          65.657550   \n",
       "\n",
       "   iwi_2014_2016_est  iwi_2017_2019_est  \n",
       "0          44.604492          49.267578  \n",
       "1          66.137695          64.501953  \n",
       "2          66.186523          64.257810  \n",
       "3          36.865234          42.041016  \n",
       "4          72.900390          67.529297  \n",
       "\n",
       "[5 rows x 21 columns]"
      ]
     },
     "execution_count": 9,
     "metadata": {},
     "output_type": "execute_result"
    }
   ],
   "source": [
    "data_dir = '/mimer/NOBACKUP/groups/globalpoverty1/cindy/eoml_ch_wb/data/interim'\n",
    "dhs_cluster_file_path = os.path.join(data_dir, 'dhs_est_iwi.csv')\n",
    "df = pd.read_csv(dhs_cluster_file_path)\n",
    "unique_countries = df['country'].unique()\n",
    "df.head()"
   ]
  },
  {
   "cell_type": "markdown",
   "metadata": {},
   "source": [
    "Function to create a feature with a 5km square around a lat/lon"
   ]
  },
  {
   "cell_type": "code",
   "execution_count": 10,
   "metadata": {},
   "outputs": [],
   "source": [
    "def createDHSFeature(row):\n",
    "  lat = ee.Number(row['lat'])\n",
    "  lon = ee.Number(row['lon'])\n",
    "  dhs_id = ee.Number(row['dhs_id'])\n",
    "  properties = {'dhs_id':dhs_id,\n",
    "               'lat':lat,\n",
    "               'lon':lon}\n",
    "    \n",
    "  #Calc coordinates of a 5km bounding box around the point\n",
    "  feature_radius=2500\n",
    "  roi = ee.Geometry.Point(lon,lat).buffer(feature_radius).bounds()\n",
    "\n",
    "  return ee.Feature(roi, properties)"
   ]
  },
  {
   "cell_type": "markdown",
   "metadata": {
    "pycharm": {
     "name": "#%% md\n"
    }
   },
   "source": [
    "Load nightlight and population density collections over the African continent and store in dictionary for later use"
   ]
  },
  {
   "cell_type": "code",
   "execution_count": 11,
   "metadata": {},
   "outputs": [],
   "source": [
    "africa_region = ee.Geometry.Polygon([\n",
    "    [-20, 38],   \n",
    "    [55, 38],    \n",
    "    [55, -36],   \n",
    "    [-20, -36]   \n",
    "])\n",
    "\n",
    "dmsp = ee.ImageCollection('NOAA/DMSP-OLS/NIGHTTIME_LIGHTS').filterBounds(africa_region)\n",
    "pop_count = ee.ImageCollection(ee.ImageCollection(\"WorldPop/GP/100m/pop\"))\n",
    "\n",
    "#get a composite image for each nighlight year and store in a year/image dictionary \n",
    "dmsp_images = {}\n",
    "for year in range(2000, 2014):\n",
    "    start_date = f\"{year}-01-01\"\n",
    "    end_date = f\"{year}-12-31\"\n",
    "    \n",
    "    # Get the image and store in dictionary with year key\n",
    "    img = dmsp.filterDate(start_date, end_date).select([\"avg_vis\"]).median()\n",
    "    dmsp_images[year] = {'img':img,'year':year}\n",
    "\n",
    "#get an image collection for each population density year and store in dictionary\n",
    "pop_count_images = {}\n",
    "for year in range(2000, 2014):       \n",
    "    start_date = f\"{year}-01-01\"\n",
    "    end_date = f\"{year+1}-01-01\"\n",
    "       \n",
    "    # Get imageCollection for the year (has image for each country) and store in dictionary \n",
    "    imgCol = pop_count.filterDate(start_date, end_date).select([\"population\"])\n",
    "    pop_count_images[year] = {'imgCol':imgCol,'year':year}\n"
   ]
  },
  {
   "cell_type": "markdown",
   "metadata": {},
   "source": [
    "Function to calculate sum of nightlights within a 5km2 square"
   ]
  },
  {
   "cell_type": "code",
   "execution_count": 12,
   "metadata": {},
   "outputs": [],
   "source": [
    "def calculate_nl_sums(DHS_loc_feature):\n",
    "    annual_sums = {}   #initialize empty dictionary to return\n",
    "    \n",
    "    #calculate annual nighlight sums\n",
    "    for year, data in dmsp_images.items():\n",
    "        img = data['img']\n",
    "        year_value = data['year']\n",
    "\n",
    "        nlyear = img.reduceRegion(\n",
    "            reducer=ee.Reducer.sum(),\n",
    "            geometry=DHS_loc_feature.geometry(),\n",
    "            scale=927.67  #datasource pixel resolution (meters)\n",
    "        )\n",
    "        sum_nlyear = nlyear.getNumber('avg_vis')   #datasource band\n",
    "        rounded_nlyear = ee.Number(sum_nlyear).format('%.1f')\n",
    "\n",
    "        #append this year to the annual_sums feature set\n",
    "        prop_name = f'nl{year_value}'\n",
    "        annual_sums[prop_name] = rounded_nlyear \n",
    "        \n",
    "    return DHS_loc_feature.set(annual_sums)"
   ]
  },
  {
   "cell_type": "markdown",
   "metadata": {},
   "source": [
    "Function to calculate sum of population within a 5km2 square"
   ]
  },
  {
   "cell_type": "code",
   "execution_count": 13,
   "metadata": {},
   "outputs": [],
   "source": [
    "def calculate_popcount_sums(DHS_loc_feature):\n",
    "    annual_sums = {}   #initialize empty dictionary to return\n",
    "        \n",
    "    #calculate annual population count sums for this year\n",
    "    for year, data in pop_count_images.items():\n",
    "        img_collection = data['imgCol']\n",
    "        year_value = data['year']     \n",
    "        \n",
    "        #Spatially combine country images into one mosaic image\n",
    "        img = img_collection.mosaic()\n",
    "       \n",
    "        pcountyear = img.reduceRegion(\n",
    "                reducer=ee.Reducer.sum(),\n",
    "                geometry=DHS_loc_feature.geometry(),\n",
    "                scale=92.77)    #datasource pixel resolution (meters)\n",
    "\n",
    "        sum_pcountyear = pcountyear.getNumber('population')    #datasource band\n",
    "        rounded_sum_pcountyear = ee.Number(sum_pcountyear).format('%.1f')\n",
    "\n",
    "        #append this year to the feature set\n",
    "        prop_name = f'pop_count{year_value}'\n",
    "        annual_sums[prop_name] = rounded_sum_pcountyear  \n",
    "    \n",
    "    return DHS_loc_feature.set(annual_sums)"
   ]
  },
  {
   "cell_type": "markdown",
   "metadata": {},
   "source": [
    "Get data a country at a time, write to a csv file"
   ]
  },
  {
   "cell_type": "code",
   "execution_count": null,
   "metadata": {
    "scrolled": true
   },
   "outputs": [
    {
     "name": "stdout",
     "output_type": "stream",
     "text": [
      "Starting south_africa with n rows: 0\n",
      "Starting lesotho with n rows: 746\n",
      "Starting namibia with n rows: 1090\n"
     ]
    }
   ],
   "source": [
    "# Prepare csv file details\n",
    "csv_file_path = '/mimer/NOBACKUP/groups/globalpoverty1/cindy/eoml_ch_wb/data/GEE/per_cap_nl_dhs_5k_WorldPop.csv'\n",
    "header = ['dhs_id', 'lat', 'lon', 'nl2000', 'nl2001', 'nl2002',\n",
    "         'nl2003','nl2004','nl2005','nl2006','nl2007','nl2008',\n",
    "          'nl2009','nl2010','nl2011','nl2012','nl2013',\n",
    "          'pop_count2000', 'pop_count2001', 'pop_count2002',\n",
    "          'pop_count2003','pop_count2004','pop_count2005','pop_count2006','pop_count2007','pop_count2008',\n",
    "          'pop_count2009','pop_count2010','pop_count2011','pop_count2012','pop_count2013']\n",
    "\n",
    "# Initialize a list to store the rows for all countries\n",
    "rows = []\n",
    "\n",
    "#loop through countries, getting the data and appending to rows list\n",
    "for country in unique_countries:\n",
    "    country_df = df[df['country'] == country]\n",
    "    print(f\"Starting {country} with n rows: {len(rows)}\")\n",
    "\n",
    "    # create list of DHS locations from the country dataframe\n",
    "    location_list = [createDHSFeature(row) for index, row in country_df.iterrows()]\n",
    "\n",
    "    # Create a country-level Feature Collection from the location list\n",
    "    country_collection = ee.FeatureCollection(location_list)\n",
    "\n",
    "    # calculate nightlights and population count sums on the feature collection\n",
    "    country_collection2 = country_collection.map(calculate_nl_sums)\n",
    "    country_collection3 = country_collection2.map(calculate_popcount_sums)\n",
    "\n",
    "    # Loop through the locations/features in the collection and extract the data\n",
    "    for location in country_collection3.getInfo()['features']:\n",
    "        properties = location['properties']\n",
    "        row = [\n",
    "            properties['dhs_id'],\n",
    "            properties['lat'],\n",
    "            properties['lon'],\n",
    "            properties['nl2000'],\n",
    "            properties['nl2001'],\n",
    "            properties['nl2002'],\n",
    "            properties['nl2003'],\n",
    "            properties['nl2004'],\n",
    "            properties['nl2005'],\n",
    "            properties['nl2006'],\n",
    "            properties['nl2007'],\n",
    "            properties['nl2008'],\n",
    "            properties['nl2009'],\n",
    "            properties['nl2010'],\n",
    "            properties['nl2011'],\n",
    "            properties['nl2012'],\n",
    "            properties['nl2013'],\n",
    "            properties['pop_count2000'],\n",
    "            properties['pop_count2001'],\n",
    "            properties['pop_count2002'],\n",
    "            properties['pop_count2003'],\n",
    "            properties['pop_count2004'],\n",
    "            properties['pop_count2005'],\n",
    "            properties['pop_count2006'],\n",
    "            properties['pop_count2007'],\n",
    "            properties['pop_count2008'],\n",
    "            properties['pop_count2009'],\n",
    "            properties['pop_count2010'],\n",
    "            properties['pop_count2011'],\n",
    "            properties['pop_count2012'],\n",
    "            properties['pop_count2013']    \n",
    "        ]\n",
    "        rows.append(row)\n",
    "        \n",
    "\n",
    "#Open and write to the csv file; with will close it\n",
    "with open(csv_file_path, 'w', newline='') as csvfile:\n",
    "    csv_writer = csv.writer(csvfile)\n",
    "    csv_writer.writerow(header)\n",
    "    csv_writer.writerows(rows)\n",
    "\n",
    "print(\"CSV file has been successfully written.\")"
   ]
  },
  {
   "cell_type": "code",
   "execution_count": null,
   "metadata": {},
   "outputs": [],
   "source": []
  },
  {
   "cell_type": "code",
   "execution_count": null,
   "metadata": {},
   "outputs": [],
   "source": []
  },
  {
   "cell_type": "code",
   "execution_count": null,
   "metadata": {},
   "outputs": [],
   "source": []
  }
 ],
 "metadata": {
  "kernelspec": {
   "display_name": "Python 3 (ipykernel)",
   "language": "python",
   "name": "python3"
  },
  "language_info": {
   "codemirror_mode": {
    "name": "ipython",
    "version": 3
   },
   "file_extension": ".py",
   "mimetype": "text/x-python",
   "name": "python",
   "nbconvert_exporter": "python",
   "pygments_lexer": "ipython3",
   "version": "3.8.13"
  }
 },
 "nbformat": 4,
 "nbformat_minor": 4
}
