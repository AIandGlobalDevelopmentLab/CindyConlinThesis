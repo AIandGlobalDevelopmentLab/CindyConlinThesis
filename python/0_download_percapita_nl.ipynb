{
 "cells": [
  {
   "cell_type": "markdown",
   "metadata": {},
   "source": [
    "# Download annual per capita nightlights \n",
    "\n",
    "Create a csv file with annual per capita nightlight values over DHS clusters, for years 2000 to 2013."
   ]
  },
  {
   "cell_type": "markdown",
   "metadata": {
    "pycharm": {
     "name": "#%% md\n"
    }
   },
   "source": [
    "Import, authenticate and initialize the earth-engine library"
   ]
  },
  {
   "cell_type": "code",
   "execution_count": 1,
   "metadata": {
    "pycharm": {
     "name": "#%%\n"
    }
   },
   "outputs": [
    {
     "ename": "ModuleNotFoundError",
     "evalue": "No module named 'ee'",
     "output_type": "error",
     "traceback": [
      "\u001b[1;31m---------------------------------------------------------------------------\u001b[0m",
      "\u001b[1;31mModuleNotFoundError\u001b[0m                       Traceback (most recent call last)",
      "Cell \u001b[1;32mIn[1], line 1\u001b[0m\n\u001b[1;32m----> 1\u001b[0m \u001b[38;5;28;01mimport\u001b[39;00m \u001b[38;5;21;01mee\u001b[39;00m\n\u001b[0;32m      3\u001b[0m ee\u001b[38;5;241m.\u001b[39mAuthenticate()\n\u001b[0;32m      5\u001b[0m ee\u001b[38;5;241m.\u001b[39mInitialize()\n",
      "\u001b[1;31mModuleNotFoundError\u001b[0m: No module named 'ee'"
     ]
    }
   ],
   "source": [
    "import ee\n",
    "\n",
    "ee.Authenticate()\n",
    "\n",
    "ee.Initialize()"
   ]
  },
  {
   "cell_type": "code",
   "execution_count": 2,
   "metadata": {},
   "outputs": [],
   "source": [
    "# Import other libraries\n",
    "import csv"
   ]
  },
  {
   "cell_type": "markdown",
   "metadata": {
    "pycharm": {
     "name": "#%% md\n"
    }
   },
   "source": [
    "Read the csv file with survey points"
   ]
  },
  {
   "cell_type": "code",
   "execution_count": 3,
   "metadata": {},
   "outputs": [
    {
     "data": {
      "text/html": [
       "<div>\n",
       "<style scoped>\n",
       "    .dataframe tbody tr th:only-of-type {\n",
       "        vertical-align: middle;\n",
       "    }\n",
       "\n",
       "    .dataframe tbody tr th {\n",
       "        vertical-align: top;\n",
       "    }\n",
       "\n",
       "    .dataframe thead th {\n",
       "        text-align: right;\n",
       "    }\n",
       "</style>\n",
       "<table border=\"1\" class=\"dataframe\">\n",
       "  <thead>\n",
       "    <tr style=\"text-align: right;\">\n",
       "      <th></th>\n",
       "      <th>country</th>\n",
       "      <th>survey_start_year</th>\n",
       "      <th>year</th>\n",
       "      <th>lat</th>\n",
       "      <th>lon</th>\n",
       "      <th>GID_1</th>\n",
       "      <th>GID_2</th>\n",
       "      <th>households</th>\n",
       "      <th>rural</th>\n",
       "      <th>iwi</th>\n",
       "    </tr>\n",
       "  </thead>\n",
       "  <tbody>\n",
       "    <tr>\n",
       "      <th>0</th>\n",
       "      <td>angola</td>\n",
       "      <td>2006</td>\n",
       "      <td>2006</td>\n",
       "      <td>-12.169283</td>\n",
       "      <td>13.859255</td>\n",
       "      <td>AGO.2</td>\n",
       "      <td>AGO.2.9</td>\n",
       "      <td>20</td>\n",
       "      <td>0</td>\n",
       "      <td>68.096300</td>\n",
       "    </tr>\n",
       "    <tr>\n",
       "      <th>1</th>\n",
       "      <td>angola</td>\n",
       "      <td>2006</td>\n",
       "      <td>2006</td>\n",
       "      <td>-12.361700</td>\n",
       "      <td>14.778201</td>\n",
       "      <td>AGO.2</td>\n",
       "      <td>AGO.2.2</td>\n",
       "      <td>19</td>\n",
       "      <td>1</td>\n",
       "      <td>10.609053</td>\n",
       "    </tr>\n",
       "    <tr>\n",
       "      <th>2</th>\n",
       "      <td>angola</td>\n",
       "      <td>2006</td>\n",
       "      <td>2006</td>\n",
       "      <td>-10.827451</td>\n",
       "      <td>14.342114</td>\n",
       "      <td>AGO.7</td>\n",
       "      <td>AGO.7.1</td>\n",
       "      <td>25</td>\n",
       "      <td>1</td>\n",
       "      <td>29.973928</td>\n",
       "    </tr>\n",
       "    <tr>\n",
       "      <th>3</th>\n",
       "      <td>angola</td>\n",
       "      <td>2006</td>\n",
       "      <td>2006</td>\n",
       "      <td>-9.991311</td>\n",
       "      <td>14.898295</td>\n",
       "      <td>AGO.7</td>\n",
       "      <td>AGO.7.5</td>\n",
       "      <td>1</td>\n",
       "      <td>1</td>\n",
       "      <td>7.704135</td>\n",
       "    </tr>\n",
       "    <tr>\n",
       "      <th>4</th>\n",
       "      <td>angola</td>\n",
       "      <td>2006</td>\n",
       "      <td>2006</td>\n",
       "      <td>-11.518893</td>\n",
       "      <td>14.750437</td>\n",
       "      <td>AGO.7</td>\n",
       "      <td>AGO.7.10</td>\n",
       "      <td>24</td>\n",
       "      <td>1</td>\n",
       "      <td>13.371826</td>\n",
       "    </tr>\n",
       "  </tbody>\n",
       "</table>\n",
       "</div>"
      ],
      "text/plain": [
       "  country  survey_start_year  year        lat        lon  GID_1     GID_2  \\\n",
       "0  angola               2006  2006 -12.169283  13.859255  AGO.2   AGO.2.9   \n",
       "1  angola               2006  2006 -12.361700  14.778201  AGO.2   AGO.2.2   \n",
       "2  angola               2006  2006 -10.827451  14.342114  AGO.7   AGO.7.1   \n",
       "3  angola               2006  2006  -9.991311  14.898295  AGO.7   AGO.7.5   \n",
       "4  angola               2006  2006 -11.518893  14.750437  AGO.7  AGO.7.10   \n",
       "\n",
       "   households  rural        iwi  \n",
       "0          20      0  68.096300  \n",
       "1          19      1  10.609053  \n",
       "2          25      1  29.973928  \n",
       "3           1      1   7.704135  \n",
       "4          24      1  13.371826  "
      ]
     },
     "execution_count": 3,
     "metadata": {},
     "output_type": "execute_result"
    }
   ],
   "source": [
    "data_dir = '/mimer/NOBACKUP/groups/globalpoverty1/cindy/eoml_ch_wb/data/interim'\n",
    "dhs_cluster_file_path = os.path.join(data_dir, 'dhs_treat_control_confounders.csv')\n",
    "df = pd.read_csv(dhs_cluster_file_path)\n",
    "df.head()"
   ]
  },
  {
   "cell_type": "markdown",
   "metadata": {},
   "source": [
    "Function to create a feature with a 6.7km square around a lat/lon"
   ]
  },
  {
   "cell_type": "code",
   "execution_count": null,
   "metadata": {},
   "outputs": [],
   "source": [
    "function createDHSFeature(row) {\n",
    "  lat = ee.Number(row.get('lat'));\n",
    "  lon = ee.Number(row.get('lon'));\n",
    "  dhs_id = row.get('dhs_id');\n",
    "  properties = {'dhs_id':dhs_id,\n",
    "               'lat':lat,\n",
    "               'lon':lon}\n",
    "    \n",
    "  #Calc coordinates of a 6.7km bounding box around the point\n",
    "  minx = lon - 3350\n",
    "  maxx = lon + 3350\n",
    "  miny = lat - 3350\n",
    "  maxy = lat + 3350\n",
    "  roi = ee.Geometry.Rectangle([minx,miny,maxx,maxy])\n",
    "  \n",
    "  return ee.Feature(geometry, properties);\n",
    "}"
   ]
  },
  {
   "cell_type": "markdown",
   "metadata": {
    "pycharm": {
     "name": "#%% md\n"
    }
   },
   "source": [
    "Load nightlight and population density collections"
   ]
  },
  {
   "cell_type": "code",
   "execution_count": 1,
   "metadata": {},
   "outputs": [
    {
     "ename": "NameError",
     "evalue": "name 'ee' is not defined",
     "output_type": "error",
     "traceback": [
      "\u001b[1;31m---------------------------------------------------------------------------\u001b[0m",
      "\u001b[1;31mNameError\u001b[0m                                 Traceback (most recent call last)",
      "Cell \u001b[1;32mIn[1], line 1\u001b[0m\n\u001b[1;32m----> 1\u001b[0m viirs \u001b[38;5;241m=\u001b[39m \u001b[43mee\u001b[49m\u001b[38;5;241m.\u001b[39mImageCollection(\u001b[38;5;124m'\u001b[39m\u001b[38;5;124mNOAA/VIIRS/DNB/MONTHLY_V1/VCMCFG\u001b[39m\u001b[38;5;124m'\u001b[39m)\n",
      "\u001b[1;31mNameError\u001b[0m: name 'ee' is not defined"
     ]
    }
   ],
   "source": [
    "africa_region = ee.Geometry.Polygon([\n",
    "    [-20, 38],   \n",
    "    [55, 38],    \n",
    "    [55, -36],   \n",
    "    [-20, -36]   \n",
    "])\n",
    "\n",
    "dmsp = ee.ImageCollection('NOAA/DMSP-OLS/NIGHTTIME_LIGHTS').filterBounds(africa_region)\n",
    "pop_count = ee.ImageCollection(ee.ImageCollection(\"CIESIN/GPWv411/GPW_Population_Count\")).filterBounds(africa_region)\n",
    "\n",
    "#get a composite image for each nighlight year\n",
    "dmsp2000img = dmsp.filterDate('2000-01-01', '2000-12-31').select([stable_lights]).median()\n",
    "dmsp2001img = dmsp.filterDate('2001-01-01', '2001-12-31').select([stable_lights]).median()\n",
    "dmsp2002img = dmsp.filterDate('2002-01-01', '2002-12-31').select([stable_lights]).median()\n",
    "dmsp2003img = dmsp.filterDate('2003-01-01', '2003-12-31').select([stable_lights]).median()\n",
    "dmsp2004img = dmsp.filterDate('2004-01-01', '2004-12-31').select([stable_lights]).median()\n",
    "dmsp2005img = dmsp.filterDate('2005-01-01', '2005-12-31').select([stable_lights]).median()\n",
    "dmsp2006img = dmsp.filterDate('2006-01-01', '2006-12-31').select([stable_lights]).median()\n",
    "dmsp2007img = dmsp.filterDate('2007-01-01', '2007-12-31').select([stable_lights]).median()\n",
    "dmsp2008img = dmsp.filterDate('2008-01-01', '2008-12-31').select([stable_lights]).median()\n",
    "dmsp2009img = dmsp.filterDate('2009-01-01', '2009-12-31').select([stable_lights]).median()\n",
    "dmsp2010img = dmsp.filterDate('2010-01-01', '2010-12-31').select([stable_lights]).median()\n",
    "dmsp2011img = dmsp.filterDate('2011-01-01', '2011-12-31').select([stable_lights]).median()\n",
    "dmsp2012img = dmsp.filterDate('2012-01-01', '2012-12-31').select([stable_lights]).median()\n",
    "dmsp2013img = dmsp.filterDate('2013-01-01', '2013-12-31').select([stable_lights]).median()\n",
    "\n",
    "#pop counts are already just one image: get three years available\n",
    "pop_count2000img = pop_count.filterDate('2000-01-01', '2000-12-31')\n",
    "pop_count2005img = pop_count.filterDate('2005-01-01', '2005-12-31')\n",
    "pop_count2010img = pop_count.filterDate('2010-01-01', '2010-12-31')"
   ]
  },
  {
   "cell_type": "code",
   "execution_count": null,
   "metadata": {},
   "outputs": [],
   "source": [
    "Function to calculate sum of viirs2000 within a region"
   ]
  },
  {
   "cell_type": "code",
   "execution_count": null,
   "metadata": {},
   "outputs": [],
   "source": [
    "def calculate_dmsp_sum(feature):\n",
    "    nl2000 = dmsp2000img.reduceRegion(\n",
    "        reducer=ee.Reducer.sum(),\n",
    "        geometry=feature.geometry(),\n",
    "        scale=927.67\n",
    "    )\n",
    "    return feature.set(nl2000)"
   ]
  },
  {
   "cell_type": "markdown",
   "metadata": {},
   "source": [
    "Open csv file, write header, loop over years and DHS points"
   ]
  },
  {
   "cell_type": "code",
   "execution_count": 5,
   "metadata": {},
   "outputs": [],
   "source": [
    "# Loop through each DHS cluster and add it to a feature collection\n",
    "feature_list = []\n",
    "for dhs in df:\n",
    "    feature = create_point_feature(row)\n",
    "    feature_list.append(feature)\n",
    "\n",
    "dhs_f_collection = ee.FeatureCollection(feature_list) \n",
    "print('Before:',dhs_f_collection.getInfo())   \n",
    "dhs_f_collection2 = dhs_f_collection.map(calculate_dmsp_sum)\n",
    "print('After:',dhs_f_collection2.getInfo())    \n",
    "\n",
    "#Open csv file to write results\n",
    "# csv_filename = os.path.join(data_dir,\"dhs_per_capita_nightlights.csv\")\n",
    "# with open(csv_filename, mode=\"w\", newline=\"\") as csv_file:\n",
    "#     csv_writer = csv.writer(csv_file)\n",
    "#     csv_writer.writerow([\"DHS ID\",\"Year\", \"Latitude\", \"Longitude\", \"PopCount2000\",\"PopCount2005\",\"PopCount2010,\n",
    "#                          \"SumNL2000\",\"SumNL2001\",\"SumNL2002\",\"SumNL2003\",\"SumNL2004\",\"SumNL2005\",\n",
    "#                          \"SumNL2006\",\"SumNL2007\",\"SumNL2008\",\"SumNL2009\",\"SumNL2010\",\"SumNL2011\",\n",
    "#                          \"SumNL2012\",\"SumNL2013\"])\n",
    "    \n",
    "   \n",
    "#     var featuresWithMeans = image.reduceRegions({\n",
    "#   collection: maineCounties,                       \n",
    "#   reducer: ee.Reducer.mean(),\n",
    "#   scale: 30,\n",
    "#   tileScale: 4\n",
    "# });\n",
    "       \n",
    "#         pc2000 = pop_count2000.reduceRegion(\n",
    "#             reducer=ee.Reducer.sum(),\n",
    "#             geometry=roi,\n",
    "#             scale=927.67,  # Resolution of the nighttime lights data in meters per pixel\n",
    "#             maxPixels=1e9  # Adjust as needed\n",
    "#         )\n",
    "\n",
    "#         for download_year in range(2000, 2014):\n",
    "#     print(\"Starting year\", download_year)\n",
    "#     # Filter the nightime lights for year\n",
    "\n",
    "#     pop_year = viirs.filterDate('2015-01-01', '2015-12-31');\n",
    "\n",
    "#         # Get the total nighttime lights and calculate per capita nighttime lights\n",
    "#         total_nightlights = stats.getNumber(\"your_band_name\")\n",
    "#         total_area = roi.area()\n",
    "#         per_capita_nightlights = total_nightlights.divide(total_area)\n",
    "\n",
    "#         # Print and write the result to the CSV file\n",
    "#         print(\"Year:\", year, \"Latitude:\", lat, \"Longitude:\", lon)\n",
    "#         print(\"Per Capita Nighttime Lights:\", per_capita_nightlights.getInfo())\n",
    "#         csv_writer.writerow([year, lat, lon, per_capita_nightlights.getInfo()])\n",
    "\n",
    "# print(\"Results saved to\", csv_filename)"
   ]
  },
  {
   "cell_type": "code",
   "execution_count": null,
   "metadata": {},
   "outputs": [],
   "source": []
  },
  {
   "cell_type": "code",
   "execution_count": null,
   "metadata": {},
   "outputs": [],
   "source": []
  },
  {
   "cell_type": "code",
   "execution_count": null,
   "metadata": {},
   "outputs": [],
   "source": []
  }
 ],
 "metadata": {
  "kernelspec": {
   "display_name": "Python 3 (ipykernel)",
   "language": "python",
   "name": "python3"
  },
  "language_info": {
   "codemirror_mode": {
    "name": "ipython",
    "version": 3
   },
   "file_extension": ".py",
   "mimetype": "text/x-python",
   "name": "python",
   "nbconvert_exporter": "python",
   "pygments_lexer": "ipython3",
   "version": "3.11.2"
  }
 },
 "nbformat": 4,
 "nbformat_minor": 4
}
