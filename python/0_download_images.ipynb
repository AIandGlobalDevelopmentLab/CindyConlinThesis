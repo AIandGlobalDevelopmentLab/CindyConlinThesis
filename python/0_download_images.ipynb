{
 "cells": [
  {
   "cell_type": "markdown",
   "metadata": {},
   "source": [
    "# Download survey GeoTiffs\n",
    "\n",
    "New, faster method for downloading DHS cluster images! Based on [this blog post by Noel Gorelick](https://gorelick.medium.com/fast-er-downloads-a2abd512aa26).\n",
    "\n",
    "Thanks to Markus Pettersson, the original author of this code. "
   ]
  },
  {
   "cell_type": "markdown",
   "metadata": {
    "pycharm": {
     "name": "#%% md\n"
    }
   },
   "source": [
    "Import, authenticate and initialize the earth-engine library"
   ]
  },
  {
   "cell_type": "code",
   "execution_count": 1,
   "metadata": {
    "pycharm": {
     "name": "#%%\n"
    }
   },
   "outputs": [
    {
     "data": {
      "text/html": [
       "<p>To authorize access needed by Earth Engine, open the following\n",
       "        URL in a web browser and follow the instructions:</p>\n",
       "        <p><a href=https://code.earthengine.google.com/client-auth?scopes=https%3A//www.googleapis.com/auth/earthengine%20https%3A//www.googleapis.com/auth/devstorage.full_control&request_id=s-SxJsNI2xl83OBjLcHKtyLbq-9KdptGPyPX634U1MQ&tc=DRKhAR47_Z59r5VhCdE0fEuf3jBLGH88WRFsaQqz3Zg&cc=c7cqb1wCw6mbES0MoFJ0NmtWYBmEllj3DQd6yvVIqNA>https://code.earthengine.google.com/client-auth?scopes=https%3A//www.googleapis.com/auth/earthengine%20https%3A//www.googleapis.com/auth/devstorage.full_control&request_id=s-SxJsNI2xl83OBjLcHKtyLbq-9KdptGPyPX634U1MQ&tc=DRKhAR47_Z59r5VhCdE0fEuf3jBLGH88WRFsaQqz3Zg&cc=c7cqb1wCw6mbES0MoFJ0NmtWYBmEllj3DQd6yvVIqNA</a></p>\n",
       "        <p>The authorization workflow will generate a code, which you should paste in the box below.</p>\n",
       "        "
      ],
      "text/plain": [
       "<IPython.core.display.HTML object>"
      ]
     },
     "metadata": {},
     "output_type": "display_data"
    },
    {
     "name": "stdout",
     "output_type": "stream",
     "text": [
      "Enter verification code: 4/1AbUR2VP3q13l1DBq2hxgmqM30-ZOUl9SYyw1GjdL_-iUYtmedI4leXSn9J0\n",
      "\n",
      "Successfully saved authorization token.\n"
     ]
    }
   ],
   "source": [
    "import ee\n",
    "\n",
    "ee.Authenticate()\n",
    "\n",
    "# Initialize the Google Earth Engine API with the high volume end-point.\n",
    "# See https://developers.google.com/earth-engine/cloud/highvolume\n",
    "ee.Initialize(opt_url='https://earthengine-highvolume.googleapis.com')"
   ]
  },
  {
   "cell_type": "code",
   "execution_count": 2,
   "metadata": {},
   "outputs": [],
   "source": [
    "# Import other libraries\n",
    "import pandas as pd\n",
    "import os\n",
    "import satellite_sampling\n",
    "import datetime"
   ]
  },
  {
   "cell_type": "markdown",
   "metadata": {
    "pycharm": {
     "name": "#%% md\n"
    }
   },
   "source": [
    "Read the csv file with survey points"
   ]
  },
  {
   "cell_type": "code",
   "execution_count": 3,
   "metadata": {},
   "outputs": [
    {
     "data": {
      "text/html": [
       "<div>\n",
       "<style scoped>\n",
       "    .dataframe tbody tr th:only-of-type {\n",
       "        vertical-align: middle;\n",
       "    }\n",
       "\n",
       "    .dataframe tbody tr th {\n",
       "        vertical-align: top;\n",
       "    }\n",
       "\n",
       "    .dataframe thead th {\n",
       "        text-align: right;\n",
       "    }\n",
       "</style>\n",
       "<table border=\"1\" class=\"dataframe\">\n",
       "  <thead>\n",
       "    <tr style=\"text-align: right;\">\n",
       "      <th></th>\n",
       "      <th>country</th>\n",
       "      <th>survey_start_year</th>\n",
       "      <th>year</th>\n",
       "      <th>lat</th>\n",
       "      <th>lon</th>\n",
       "      <th>GID_1</th>\n",
       "      <th>GID_2</th>\n",
       "      <th>households</th>\n",
       "      <th>rural</th>\n",
       "      <th>iwi</th>\n",
       "    </tr>\n",
       "  </thead>\n",
       "  <tbody>\n",
       "    <tr>\n",
       "      <th>0</th>\n",
       "      <td>angola</td>\n",
       "      <td>2006</td>\n",
       "      <td>2006</td>\n",
       "      <td>-12.169283</td>\n",
       "      <td>13.859255</td>\n",
       "      <td>AGO.2</td>\n",
       "      <td>AGO.2.9</td>\n",
       "      <td>20</td>\n",
       "      <td>0</td>\n",
       "      <td>68.096300</td>\n",
       "    </tr>\n",
       "    <tr>\n",
       "      <th>1</th>\n",
       "      <td>angola</td>\n",
       "      <td>2006</td>\n",
       "      <td>2006</td>\n",
       "      <td>-12.361700</td>\n",
       "      <td>14.778201</td>\n",
       "      <td>AGO.2</td>\n",
       "      <td>AGO.2.2</td>\n",
       "      <td>19</td>\n",
       "      <td>1</td>\n",
       "      <td>10.609053</td>\n",
       "    </tr>\n",
       "    <tr>\n",
       "      <th>2</th>\n",
       "      <td>angola</td>\n",
       "      <td>2006</td>\n",
       "      <td>2006</td>\n",
       "      <td>-10.827451</td>\n",
       "      <td>14.342114</td>\n",
       "      <td>AGO.7</td>\n",
       "      <td>AGO.7.1</td>\n",
       "      <td>25</td>\n",
       "      <td>1</td>\n",
       "      <td>29.973928</td>\n",
       "    </tr>\n",
       "    <tr>\n",
       "      <th>3</th>\n",
       "      <td>angola</td>\n",
       "      <td>2006</td>\n",
       "      <td>2006</td>\n",
       "      <td>-9.991311</td>\n",
       "      <td>14.898295</td>\n",
       "      <td>AGO.7</td>\n",
       "      <td>AGO.7.5</td>\n",
       "      <td>1</td>\n",
       "      <td>1</td>\n",
       "      <td>7.704135</td>\n",
       "    </tr>\n",
       "    <tr>\n",
       "      <th>4</th>\n",
       "      <td>angola</td>\n",
       "      <td>2006</td>\n",
       "      <td>2006</td>\n",
       "      <td>-11.518893</td>\n",
       "      <td>14.750437</td>\n",
       "      <td>AGO.7</td>\n",
       "      <td>AGO.7.10</td>\n",
       "      <td>24</td>\n",
       "      <td>1</td>\n",
       "      <td>13.371826</td>\n",
       "    </tr>\n",
       "  </tbody>\n",
       "</table>\n",
       "</div>"
      ],
      "text/plain": [
       "  country  survey_start_year  year        lat        lon  GID_1     GID_2  \\\n",
       "0  angola               2006  2006 -12.169283  13.859255  AGO.2   AGO.2.9   \n",
       "1  angola               2006  2006 -12.361700  14.778201  AGO.2   AGO.2.2   \n",
       "2  angola               2006  2006 -10.827451  14.342114  AGO.7   AGO.7.1   \n",
       "3  angola               2006  2006  -9.991311  14.898295  AGO.7   AGO.7.5   \n",
       "4  angola               2006  2006 -11.518893  14.750437  AGO.7  AGO.7.10   \n",
       "\n",
       "   households  rural        iwi  \n",
       "0          20      0  68.096300  \n",
       "1          19      1  10.609053  \n",
       "2          25      1  29.973928  \n",
       "3           1      1   7.704135  \n",
       "4          24      1  13.371826  "
      ]
     },
     "execution_count": 3,
     "metadata": {},
     "output_type": "execute_result"
    }
   ],
   "source": [
    "data_dir = '/mimer/NOBACKUP/groups/globalpoverty1/cindy/eoml_ch_wb/data/'\n",
    "dhs_cluster_file_path = os.path.join(data_dir, 'dhs_clusters.csv')\n",
    "df = pd.read_csv(dhs_cluster_file_path)\n",
    "df.head()"
   ]
  },
  {
   "cell_type": "markdown",
   "metadata": {
    "pycharm": {
     "name": "#%% md\n"
    }
   },
   "source": [
    "Split the dataframe into each country-year combination:"
   ]
  },
  {
   "cell_type": "code",
   "execution_count": 4,
   "metadata": {},
   "outputs": [],
   "source": [
    "surveys_with_dfs = [(survey, survey_df.reset_index(drop=True)) for survey, survey_df in \n",
    "                    df.groupby(['country', 'year'])]"
   ]
  },
  {
   "cell_type": "markdown",
   "metadata": {},
   "source": [
    "Function for checking if sample is already downloaded, in case the script needs to be restarted for some reason"
   ]
  },
  {
   "cell_type": "code",
   "execution_count": 5,
   "metadata": {},
   "outputs": [],
   "source": [
    "def check_if_downloaded(row, save_dir, min_file_size=3145728):\n",
    "    file_name = f'{row.name:05d}.tif'\n",
    "    file_path = os.path.join(save_dir, file_name)\n",
    "    \n",
    "    # Check if file exists and is larger than min_file_size\n",
    "    return os.path.isfile(file_path) and (os.stat(file_path).st_size > min_file_size)"
   ]
  },
  {
   "cell_type": "markdown",
   "metadata": {},
   "source": [
    "Download each survey from Google Earth Engine"
   ]
  },
  {
   "cell_type": "code",
   "execution_count": 10,
   "metadata": {},
   "outputs": [
    {
     "name": "stdout",
     "output_type": "stream",
     "text": [
      "Downloading images for angola-2006...02.Jun 2023 21:21:20\n",
      "Downloading images for angola-2007...02.Jun 2023 21:21:20\n",
      "Downloading images for angola-2010...02.Jun 2023 21:21:21\n",
      "Downloading images for angola-2011...02.Jun 2023 21:21:21\n",
      "Downloading images for angola-2015...02.Jun 2023 21:21:21\n",
      "Downloading images for angola-2016...02.Jun 2023 21:21:21\n",
      "Downloading images for benin-1996...02.Jun 2023 21:21:21\n",
      "Downloading images for benin-2001...02.Jun 2023 21:21:21\n",
      "Downloading images for benin-2011...02.Jun 2023 21:21:21\n",
      "Downloading images for benin-2012...02.Jun 2023 21:21:21\n",
      "Downloading images for benin-2017...02.Jun 2023 21:21:21\n",
      "Downloading images for benin-2018...02.Jun 2023 21:21:21\n",
      "Downloading images for burkina_faso-1992...02.Jun 2023 21:21:21\n",
      "Downloading images for burkina_faso-1993...02.Jun 2023 21:21:21\n",
      "Downloading images for burkina_faso-1998...02.Jun 2023 21:21:21\n",
      "Downloading images for burkina_faso-1999...02.Jun 2023 21:21:21\n",
      "Downloading images for burkina_faso-2003...02.Jun 2023 21:21:21\n",
      "Downloading images for burkina_faso-2010...02.Jun 2023 21:21:21\n",
      "Downloading images for burkina_faso-2014...02.Jun 2023 21:21:21\n",
      "Downloading images for burkina_faso-2017...02.Jun 2023 21:21:21\n",
      "Downloading images for burkina_faso-2018...02.Jun 2023 21:21:21\n",
      "Downloading images for burundi-2010...02.Jun 2023 21:21:21\n",
      "Downloading images for burundi-2011...02.Jun 2023 21:21:21\n",
      "Downloading images for burundi-2012...02.Jun 2023 21:21:21\n",
      "Downloading images for burundi-2016...02.Jun 2023 21:21:21\n",
      "Downloading images for burundi-2017...02.Jun 2023 21:21:22\n",
      "Downloading images for cameroon-1991...02.Jun 2023 21:21:22\n",
      "Downloading images for cameroon-2004...02.Jun 2023 21:21:22\n",
      "Downloading images for cameroon-2011...02.Jun 2023 21:21:22\n",
      "Downloading images for cameroon-2018...02.Jun 2023 21:21:22\n",
      "Downloading images for cameroon-2019...02.Jun 2023 21:21:22\n",
      "Downloading images for central_african_republic-1994...02.Jun 2023 21:21:22\n",
      "Downloading images for central_african_republic-1995...02.Jun 2023 21:21:22\n",
      "Downloading images for chad-2014...02.Jun 2023 21:21:22\n",
      "Downloading images for chad-2015...02.Jun 2023 21:21:22\n",
      "Downloading images for comoros-2012...02.Jun 2023 21:21:22\n",
      "Downloading images for democratic_republic_of_congo-2007...02.Jun 2023 21:21:22\n",
      "Downloading images for democratic_republic_of_congo-2013...02.Jun 2023 21:21:22\n",
      "Downloading images for democratic_republic_of_congo-2014...02.Jun 2023 21:21:22\n",
      "Downloading images for egypt-1992...02.Jun 2023 21:21:22\n",
      "Downloading images for egypt-1995...02.Jun 2023 21:21:22\n",
      "Downloading images for egypt-1996...02.Jun 2023 21:21:23\n",
      "Downloading images for egypt-2000...02.Jun 2023 21:21:23\n",
      "Downloading images for egypt-2003...02.Jun 2023 21:21:23\n",
      "Downloading images for egypt-2005...02.Jun 2023 21:21:23\n",
      "Downloading images for egypt-2008...02.Jun 2023 21:21:23\n",
      "Downloading images for egypt-2014...02.Jun 2023 21:21:23\n",
      "Downloading images for eswatini-2006...02.Jun 2023 21:21:24\n",
      "Downloading images for eswatini-2007...02.Jun 2023 21:21:24\n",
      "Downloading images for ethiopia-2000...02.Jun 2023 21:21:24\n",
      "Downloading images for ethiopia-2005...02.Jun 2023 21:21:24\n",
      "Downloading images for ethiopia-2011...02.Jun 2023 21:21:24\n",
      "Downloading images for ethiopia-2012...02.Jun 2023 21:21:24\n",
      "Downloading images for ethiopia-2016...02.Jun 2023 21:21:24\n",
      "Downloading images for gabon-2012...02.Jun 2023 21:21:24\n",
      "Downloading images for ghana-1993...02.Jun 2023 21:21:24\n",
      "Downloading images for ghana-1994...02.Jun 2023 21:21:24\n",
      "Downloading images for ghana-1998...02.Jun 2023 21:21:24\n",
      "Downloading images for ghana-1999...02.Jun 2023 21:21:24\n",
      "Downloading images for ghana-2003...02.Jun 2023 21:21:25\n",
      "Downloading images for ghana-2008...02.Jun 2023 21:21:25\n",
      "Downloading images for ghana-2014...02.Jun 2023 21:21:25\n",
      "Downloading images for ghana-2016...02.Jun 2023 21:21:25\n",
      "Downloading images for ghana-2019...02.Jun 2023 21:21:25\n",
      "Downloading images for guinea-1999...02.Jun 2023 21:21:25\n",
      "Downloading images for guinea-2005...02.Jun 2023 21:21:25\n",
      "Downloading images for guinea-2012...02.Jun 2023 21:21:25\n",
      "Downloading images for guinea-2018...02.Jun 2023 21:21:25\n",
      "Downloading images for ivory_coast-1994...02.Jun 2023 21:21:25\n",
      "Downloading images for ivory_coast-1998...02.Jun 2023 21:21:25\n",
      "Downloading images for ivory_coast-1999...02.Jun 2023 21:21:25\n",
      "Downloading images for ivory_coast-2011...02.Jun 2023 21:21:25\n",
      "Downloading images for ivory_coast-2012...02.Jun 2023 21:21:25\n",
      "Downloading images for kenya-2003...02.Jun 2023 21:21:25\n",
      "Downloading images for kenya-2008...02.Jun 2023 21:21:25\n",
      "Downloading images for kenya-2009...02.Jun 2023 21:21:25\n",
      "Downloading images for kenya-2014...02.Jun 2023 21:21:25\n",
      "Downloading images for kenya-2015...02.Jun 2023 21:21:26\n",
      "Downloading images for lesotho-2004...02.Jun 2023 21:21:26\n",
      "Downloading images for lesotho-2005...02.Jun 2023 21:21:26\n",
      "Downloading images for lesotho-2009...02.Jun 2023 21:21:26\n",
      "Downloading images for lesotho-2010...02.Jun 2023 21:21:26\n",
      "Downloading images for lesotho-2014...02.Jun 2023 21:21:26\n",
      "Downloading images for liberia-2008...02.Jun 2023 21:21:26\n",
      "Downloading images for liberia-2009...02.Jun 2023 21:21:26\n",
      "Downloading images for liberia-2011...02.Jun 2023 21:21:26\n",
      "Downloading images for liberia-2013...02.Jun 2023 21:21:26\n",
      "Downloading images for liberia-2016...02.Jun 2023 21:21:26\n",
      "Downloading images for madagascar-1997...02.Jun 2023 21:21:26\n",
      "Downloading images for madagascar-2008...02.Jun 2023 21:21:26\n",
      "Downloading images for madagascar-2009...02.Jun 2023 21:21:26\n",
      "Downloading images for madagascar-2011...02.Jun 2023 21:21:26\n",
      "Downloading images for madagascar-2013...02.Jun 2023 21:21:26\n",
      "Downloading images for madagascar-2016...02.Jun 2023 21:21:26\n",
      "Downloading images for malawi-2000...02.Jun 2023 21:21:27\n",
      "Downloading images for malawi-2004...02.Jun 2023 21:21:27\n",
      "Downloading images for malawi-2005...02.Jun 2023 21:21:27\n",
      "Downloading images for malawi-2010...02.Jun 2023 21:21:27\n",
      "Downloading images for malawi-2012...02.Jun 2023 21:21:27\n",
      "Downloading images for malawi-2014...02.Jun 2023 21:21:27\n",
      "Downloading images for malawi-2015...02.Jun 2023 21:21:27\n",
      "Downloading images for malawi-2016...02.Jun 2023 21:21:27\n",
      "Downloading images for malawi-2017...02.Jun 2023 21:21:27\n",
      "Downloading images for mali-1995...02.Jun 2023 21:21:27\n",
      "Downloading images for mali-1996...02.Jun 2023 21:21:27\n",
      "Downloading images for mali-2001...02.Jun 2023 21:21:27\n",
      "Downloading images for mali-2006...02.Jun 2023 21:21:27\n",
      "Downloading images for mali-2012...02.Jun 2023 21:21:27\n",
      "Downloading images for mali-2013...02.Jun 2023 21:21:27\n",
      "Downloading images for mali-2015...02.Jun 2023 21:21:27\n",
      "Downloading images for mali-2018...02.Jun 2023 21:21:27\n",
      "Downloading images for morocco-2003...02.Jun 2023 21:21:28\n",
      "Downloading images for morocco-2004...02.Jun 2023 21:21:28\n",
      "Downloading images for mozambique-2011...02.Jun 2023 21:21:28\n",
      "Downloading images for mozambique-2015...02.Jun 2023 21:21:28\n",
      "Downloading images for mozambique-2018...02.Jun 2023 21:21:28\n",
      "Downloading images for namibia-2000...02.Jun 2023 21:21:28\n",
      "Downloading images for namibia-2006...02.Jun 2023 21:21:28\n",
      "Downloading images for namibia-2007...02.Jun 2023 21:21:28\n",
      "Downloading images for namibia-2013...02.Jun 2023 21:21:28\n",
      "Downloading images for niger-1992...02.Jun 2023 21:21:28\n",
      "Downloading images for niger-1998...02.Jun 2023 21:21:28\n",
      "Downloading images for nigeria-2003...02.Jun 2023 21:21:28\n",
      "Downloading images for nigeria-2008...02.Jun 2023 21:21:28\n",
      "Downloading images for nigeria-2010...02.Jun 2023 21:21:28\n",
      "Downloading images for nigeria-2013...02.Jun 2023 21:21:28\n",
      "Downloading images for nigeria-2015...02.Jun 2023 21:21:29\n",
      "Downloading images for nigeria-2018...02.Jun 2023 21:21:29\n",
      "Downloading images for rwanda-2005...02.Jun 2023 21:21:29\n",
      "Downloading images for rwanda-2007...02.Jun 2023 21:21:29\n",
      "Downloading images for rwanda-2008...02.Jun 2023 21:21:29\n",
      "Downloading images for rwanda-2010...02.Jun 2023 21:21:29\n",
      "Downloading images for rwanda-2011...02.Jun 2023 21:21:29\n",
      "Downloading images for rwanda-2014...02.Jun 2023 21:21:29\n",
      "Downloading images for rwanda-2015...02.Jun 2023 21:21:29\n",
      "Downloading images for senegal-1992...02.Jun 2023 21:21:29\n",
      "Downloading images for senegal-1993...02.Jun 2023 21:21:29\n",
      "Downloading images for senegal-1997...02.Jun 2023 21:21:29\n"
     ]
    },
    {
     "name": "stdout",
     "output_type": "stream",
     "text": [
      "Downloading images for senegal-2005...02.Jun 2023 21:21:30\n",
      "Downloading images for senegal-2008...02.Jun 2023 21:21:30\n",
      "Downloading images for senegal-2009...02.Jun 2023 21:21:30\n",
      "Downloading images for senegal-2010...02.Jun 2023 21:21:30\n",
      "Downloading images for senegal-2011...02.Jun 2023 21:21:30\n",
      "Downloading images for senegal-2012...02.Jun 2023 21:21:30\n",
      "Downloading images for senegal-2013...02.Jun 2023 21:21:30\n",
      "Downloading images for senegal-2015...02.Jun 2023 21:21:30\n",
      "Downloading images for senegal-2019...02.Jun 2023 21:21:30\n",
      "Downloading images for sierra_leone-2008...02.Jun 2023 21:21:30\n",
      "Downloading images for sierra_leone-2013...02.Jun 2023 21:21:30\n",
      "Downloading images for sierra_leone-2016...02.Jun 2023 21:21:30\n",
      "Downloading images for sierra_leone-2019...02.Jun 2023 21:21:30\n",
      "Downloading images for south_africa-2016...02.Jun 2023 21:21:30\n",
      "Downloading images for tanzania-1999...02.Jun 2023 21:21:31\n",
      "Downloading images for tanzania-2007...02.Jun 2023 21:21:31\n",
      "Downloading images for tanzania-2008...02.Jun 2023 21:21:31\n",
      "Downloading images for tanzania-2009...02.Jun 2023 21:21:31\n",
      "Downloading images for tanzania-2010...02.Jun 2023 21:21:31\n",
      "Downloading images for tanzania-2011...02.Jun 2023 21:21:31\n",
      "Downloading images for tanzania-2012...02.Jun 2023 21:21:31\n",
      "Downloading images for tanzania-2015...02.Jun 2023 21:21:31\n",
      "Downloading images for tanzania-2016...02.Jun 2023 21:21:31\n",
      "Downloading images for tanzania-2017...02.Jun 2023 21:21:31\n",
      "Downloading images for togo-1998...02.Jun 2023 21:21:31\n",
      "Downloading images for togo-2013...02.Jun 2023 21:21:31\n",
      "Downloading images for togo-2014...02.Jun 2023 21:21:31\n",
      "Downloading images for togo-2017...02.Jun 2023 21:21:31\n",
      "Downloading images for uganda-2000...02.Jun 2023 21:21:31\n",
      "Downloading images for uganda-2001...02.Jun 2023 21:21:31\n",
      "Downloading images for uganda-2006...02.Jun 2023 21:21:31\n",
      "Downloading images for uganda-2009...02.Jun 2023 21:21:31\n",
      "Downloading images for uganda-2010...02.Jun 2023 21:21:32\n",
      "Downloading images for uganda-2011...02.Jun 2023 21:21:32\n",
      "Downloading images for uganda-2014...02.Jun 2023 21:21:32\n",
      "Downloading images for uganda-2015...02.Jun 2023 21:21:32\n",
      "Downloading images for uganda-2016...02.Jun 2023 21:21:32\n",
      "Downloading images for uganda-2018...02.Jun 2023 21:21:32\n",
      "Downloading images for uganda-2019...02.Jun 2023 21:21:32\n",
      "Downloading images for zambia-2007...02.Jun 2023 21:21:32\n",
      "Downloading images for zambia-2013...02.Jun 2023 21:21:32\n",
      "Downloading images for zambia-2014...02.Jun 2023 21:21:32\n",
      "Downloading images for zambia-2018...02.Jun 2023 21:21:32\n",
      "Downloading images for zambia-2019...02.Jun 2023 21:21:32\n",
      "Downloading images for zimbabwe-1999...02.Jun 2023 21:21:32\n",
      "Downloading images for zimbabwe-2005...02.Jun 2023 21:21:32\n",
      "Downloading images for zimbabwe-2006...02.Jun 2023 21:21:32\n",
      "Downloading images for zimbabwe-2010...02.Jun 2023 21:21:32\n",
      "Downloading images for zimbabwe-2011...02.Jun 2023 21:21:33\n",
      "Downloading images for zimbabwe-2015...02.Jun 2023 21:21:33\n"
     ]
    }
   ],
   "source": [
    "for survey, survey_df in surveys_with_dfs:\n",
    "    country, year = survey\n",
    "    print(f'Downloading images for {country}-{year}...'+\n",
    "        datetime.datetime.now().strftime(\"%d.%b %Y %H:%M:%S\"))\n",
    "       \n",
    "    save_dir = os.path.join(data_dir, f'dhs_tifs/{country}_{year}')      \n",
    "           \n",
    "    # Check if survey is already fully/partially downloaded\n",
    "    if os.path.exists(save_dir):\n",
    "        is_downloaded = survey_df.apply(lambda row: check_if_downloaded(row, save_dir), axis=1)\n",
    "        samples_to_download = survey_df[~is_downloaded]\n",
    "    else:\n",
    "        os.makedirs(save_dir)\n",
    "        samples_to_download = survey_df\n",
    "    \n",
    "    # If there are no samples to download for this survey, continue to next one\n",
    "    if len(samples_to_download) == 0:\n",
    "        continue\n",
    "    \n",
    "    satellite_sampling.export_images(samples_to_download, save_dir, span_length=3)"
   ]
  },
  {
   "cell_type": "code",
   "execution_count": null,
   "metadata": {},
   "outputs": [],
   "source": []
  },
  {
   "cell_type": "code",
   "execution_count": null,
   "metadata": {},
   "outputs": [],
   "source": []
  },
  {
   "cell_type": "code",
   "execution_count": null,
   "metadata": {},
   "outputs": [],
   "source": []
  }
 ],
 "metadata": {
  "kernelspec": {
   "display_name": "Python 3 (ipykernel)",
   "language": "python",
   "name": "python3"
  },
  "language_info": {
   "codemirror_mode": {
    "name": "ipython",
    "version": 3
   },
   "file_extension": ".py",
   "mimetype": "text/x-python",
   "name": "python",
   "nbconvert_exporter": "python",
   "pygments_lexer": "ipython3",
   "version": "3.8.13"
  }
 },
 "nbformat": 4,
 "nbformat_minor": 4
}
