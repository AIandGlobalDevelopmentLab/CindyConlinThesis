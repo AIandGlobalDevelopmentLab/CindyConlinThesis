{
 "cells": [
  {
   "cell_type": "markdown",
   "metadata": {},
   "source": [
    "# Download annual per capita nightlights \n",
    "\n",
    "Create a csv file with annual per capita nightlight values over DHS clusters, for years 2000 to 2013."
   ]
  },
  {
   "cell_type": "markdown",
   "metadata": {
    "pycharm": {
     "name": "#%% md\n"
    }
   },
   "source": [
    "Import, authenticate and initialize the earth-engine library"
   ]
  },
  {
   "cell_type": "code",
   "execution_count": null,
   "metadata": {
    "pycharm": {
     "name": "#%%\n"
    }
   },
   "outputs": [],
   "source": [
    "import ee\n",
    "\n",
    "ee.Authenticate()\n",
    "\n",
    "ee.Initialize()"
   ]
  },
  {
   "cell_type": "code",
   "execution_count": null,
   "metadata": {},
   "outputs": [],
   "source": [
    "# Import other libraries\n",
    "import csv\n",
    "import os\n",
    "import pandas as pd"
   ]
  },
  {
   "cell_type": "markdown",
   "metadata": {
    "pycharm": {
     "name": "#%% md\n"
    }
   },
   "source": [
    "Read the csv file with survey points"
   ]
  },
  {
   "cell_type": "code",
   "execution_count": null,
   "metadata": {},
   "outputs": [],
   "source": [
    "data_dir = '/mimer/NOBACKUP/groups/globalpoverty1/cindy/eoml_ch_wb/data/interim'\n",
    "dhs_cluster_file_path = os.path.join(data_dir, 'dhs_est_iwi.csv')\n",
    "df = pd.read_csv(dhs_cluster_file_path)\n",
    "unique_countries = df['country'].unique()\n",
    "df.head()"
   ]
  },
  {
   "cell_type": "markdown",
   "metadata": {},
   "source": [
    "Function to create a feature with a 6.7km square around a lat/lon"
   ]
  },
  {
   "cell_type": "code",
   "execution_count": null,
   "metadata": {},
   "outputs": [],
   "source": [
    "def createDHSFeature(row):\n",
    "  lat = ee.Number(row['lat'])\n",
    "  lon = ee.Number(row['lon'])\n",
    "  dhs_id = ee.Number(row['dhs_id'])\n",
    "  properties = {'dhs_id':dhs_id,\n",
    "               'lat':lat,\n",
    "               'lon':lon}\n",
    "    \n",
    "  #Calc coordinates of a 6.7km bounding box around the point\n",
    "  feature_radius=3350\n",
    "  roi = ee.Geometry.Point(lon,lat).buffer(feature_radius).bounds()\n",
    "\n",
    "  return ee.Feature(roi, properties)"
   ]
  },
  {
   "cell_type": "markdown",
   "metadata": {
    "pycharm": {
     "name": "#%% md\n"
    }
   },
   "source": [
    "Load nightlight and population density collections over the African continent and store in dictionary for later use"
   ]
  },
  {
   "cell_type": "code",
   "execution_count": null,
   "metadata": {},
   "outputs": [],
   "source": [
    "africa_region = ee.Geometry.Polygon([\n",
    "    [-20, 38],   \n",
    "    [55, 38],    \n",
    "    [55, -36],   \n",
    "    [-20, -36]   \n",
    "])\n",
    "\n",
    "dmsp = ee.ImageCollection('BNU/FGS/CCNL/v1').filterBounds(africa_region)\n",
    "pop_count = ee.ImageCollection(ee.ImageCollection(\"WorldPop/GP/100m/pop\"))\n",
    "\n",
    "#get a composite image for each nighlight year and store in a year/image dictionary \n",
    "dmsp_images = {}\n",
    "for year in range(2000, 2014):\n",
    "    start_date = f\"{year}-01-01\"\n",
    "    end_date = f\"{year}-12-31\"\n",
    "    \n",
    "    # Get the image and store in dictionary with year key\n",
    "    img = dmsp.filterDate(start_date, end_date).select([\"b1\"]).median()\n",
    "    dmsp_images[year] = {'img':img,'year':year}\n",
    "\n",
    "#get an image collection for each population density year and store in dictionary\n",
    "pop_count_images = {}\n",
    "for year in range(2000, 2014):       \n",
    "    start_date = f\"{year}-01-01\"\n",
    "    end_date = f\"{year+1}-01-01\"\n",
    "       \n",
    "    # Get imageCollection for the year (has image for each country) and store in dictionary \n",
    "    imgCol = pop_count.filterDate(start_date, end_date).select([\"population\"])\n",
    "    pop_count_images[year] = {'imgCol':imgCol,'year':year}\n"
   ]
  },
  {
   "cell_type": "markdown",
   "metadata": {},
   "source": [
    "Function to calculate sum of nightlights within a 6.7km2 square"
   ]
  },
  {
   "cell_type": "code",
   "execution_count": null,
   "metadata": {},
   "outputs": [],
   "source": [
    "def calculate_nl_sums(DHS_loc_feature):\n",
    "    annual_sums = {}   #initialize empty dictionary to return\n",
    "    \n",
    "    #calculate annual nighlight sums\n",
    "    for year, data in dmsp_images.items():\n",
    "        img = data['img']\n",
    "        year_value = data['year']\n",
    "\n",
    "        nlyear = img.reduceRegion(\n",
    "            reducer=ee.Reducer.sum(),\n",
    "            geometry=DHS_loc_feature.geometry(),\n",
    "            scale=1000  #datasource pixel resolution (meters)\n",
    "        )\n",
    "        sum_nlyear = nlyear.getNumber('b1')   #datasource band\n",
    "        rounded_nlyear = ee.Number(sum_nlyear).format('%.1f')\n",
    "\n",
    "        #append this year to the annual_sums feature set\n",
    "        prop_name = f'nl{year_value}'\n",
    "        annual_sums[prop_name] = rounded_nlyear \n",
    "        \n",
    "    return DHS_loc_feature.set(annual_sums)"
   ]
  },
  {
   "cell_type": "markdown",
   "metadata": {},
   "source": [
    "Function to calculate sum of population within a 6.7km2 square"
   ]
  },
  {
   "cell_type": "code",
   "execution_count": null,
   "metadata": {},
   "outputs": [],
   "source": [
    "def calculate_popcount_sums(DHS_loc_feature):\n",
    "    annual_sums = {}   #initialize empty dictionary to return\n",
    "        \n",
    "    #calculate annual population count sums for this year\n",
    "    for year, data in pop_count_images.items():\n",
    "        img_collection = data['imgCol']\n",
    "        year_value = data['year']     \n",
    "        \n",
    "        #Spatially combine country images into one mosaic image\n",
    "        img = img_collection.mosaic()\n",
    "       \n",
    "        pcountyear = img.reduceRegion(\n",
    "                reducer=ee.Reducer.sum(),\n",
    "                geometry=DHS_loc_feature.geometry(),\n",
    "                scale=92.77)    #datasource pixel resolution (meters)\n",
    "\n",
    "        sum_pcountyear = pcountyear.getNumber('population')    #datasource band\n",
    "        rounded_sum_pcountyear = ee.Number(sum_pcountyear).format('%.1f')\n",
    "\n",
    "        #append this year to the feature set\n",
    "        prop_name = f'pop_count{year_value}'\n",
    "        annual_sums[prop_name] = rounded_sum_pcountyear  \n",
    "    \n",
    "    return DHS_loc_feature.set(annual_sums)"
   ]
  },
  {
   "cell_type": "markdown",
   "metadata": {},
   "source": [
    "Get data a country at a time, write to a csv file"
   ]
  },
  {
   "cell_type": "code",
   "execution_count": null,
   "metadata": {
    "scrolled": true
   },
   "outputs": [],
   "source": [
    "# Prepare csv file details\n",
    "csv_file_path = '/mimer/NOBACKUP/groups/globalpoverty1/cindy/eoml_ch_wb/data/GEE/per_cap_nl_dhs_WorldPop_BNU.csv'\n",
    "header = ['dhs_id', 'lat', 'lon', 'nl2000', 'nl2001', 'nl2002',\n",
    "         'nl2003','nl2004','nl2005','nl2006','nl2007','nl2008',\n",
    "          'nl2009','nl2010','nl2011','nl2012','nl2013',\n",
    "          'pop_count2000', 'pop_count2001', 'pop_count2002',\n",
    "          'pop_count2003','pop_count2004','pop_count2005','pop_count2006','pop_count2007','pop_count2008',\n",
    "          'pop_count2009','pop_count2010','pop_count2011','pop_count2012','pop_count2013']\n",
    "\n",
    "# Initialize a list to store the rows for all countries\n",
    "rows = []\n",
    "\n",
    "#loop through countries, getting the data and appending to rows list\n",
    "for country in unique_countries:\n",
    "    country_df = df[df['country'] == country]\n",
    "    print(f\"Starting {country} with n rows: {len(rows)}\")\n",
    "\n",
    "    # create list of DHS locations from the country dataframe\n",
    "    location_list = [createDHSFeature(row) for index, row in country_df.iterrows()]\n",
    "\n",
    "    # Create a country-level Feature Collection from the location list\n",
    "    country_collection = ee.FeatureCollection(location_list)\n",
    "\n",
    "    # calculate nightlights and population count sums on the feature collection\n",
    "    country_collection2 = country_collection.map(calculate_nl_sums)\n",
    "    country_collection3 = country_collection2.map(calculate_popcount_sums)\n",
    "\n",
    "    # Loop through the locations/features in the collection and extract the data\n",
    "    for location in country_collection3.getInfo()['features']:\n",
    "        properties = location['properties']\n",
    "        row = [\n",
    "            properties['dhs_id'],\n",
    "            properties['lat'],\n",
    "            properties['lon'],\n",
    "            properties['nl2000'],\n",
    "            properties['nl2001'],\n",
    "            properties['nl2002'],\n",
    "            properties['nl2003'],\n",
    "            properties['nl2004'],\n",
    "            properties['nl2005'],\n",
    "            properties['nl2006'],\n",
    "            properties['nl2007'],\n",
    "            properties['nl2008'],\n",
    "            properties['nl2009'],\n",
    "            properties['nl2010'],\n",
    "            properties['nl2011'],\n",
    "            properties['nl2012'],\n",
    "            properties['nl2013'],\n",
    "            properties['pop_count2000'],\n",
    "            properties['pop_count2001'],\n",
    "            properties['pop_count2002'],\n",
    "            properties['pop_count2003'],\n",
    "            properties['pop_count2004'],\n",
    "            properties['pop_count2005'],\n",
    "            properties['pop_count2006'],\n",
    "            properties['pop_count2007'],\n",
    "            properties['pop_count2008'],\n",
    "            properties['pop_count2009'],\n",
    "            properties['pop_count2010'],\n",
    "            properties['pop_count2011'],\n",
    "            properties['pop_count2012'],\n",
    "            properties['pop_count2013']    \n",
    "        ]\n",
    "        rows.append(row)\n",
    "        \n",
    "\n",
    "#Open and write to the csv file; with will close it\n",
    "with open(csv_file_path, 'w', newline='') as csvfile:\n",
    "    csv_writer = csv.writer(csvfile)\n",
    "    csv_writer.writerow(header)\n",
    "    csv_writer.writerows(rows)\n",
    "\n",
    "print(\"CSV file has been successfully written.\")"
   ]
  },
  {
   "cell_type": "code",
   "execution_count": null,
   "metadata": {},
   "outputs": [],
   "source": []
  },
  {
   "cell_type": "code",
   "execution_count": null,
   "metadata": {},
   "outputs": [],
   "source": []
  },
  {
   "cell_type": "code",
   "execution_count": null,
   "metadata": {},
   "outputs": [],
   "source": []
  }
 ],
 "metadata": {
  "kernelspec": {
   "display_name": "Python 3 (ipykernel)",
   "language": "python",
   "name": "python3"
  },
  "language_info": {
   "codemirror_mode": {
    "name": "ipython",
    "version": 3
   },
   "file_extension": ".py",
   "mimetype": "text/x-python",
   "name": "python",
   "nbconvert_exporter": "python",
   "pygments_lexer": "ipython3",
   "version": "3.8.13"
  }
 },
 "nbformat": 4,
 "nbformat_minor": 4
}
