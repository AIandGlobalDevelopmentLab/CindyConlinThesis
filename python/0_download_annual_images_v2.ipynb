{
 "cells": [
  {
   "cell_type": "markdown",
   "metadata": {},
   "source": [
    "# Download survey GeoTiffs\n",
    "\n",
    "New, faster method for downloading DHS cluster images! Based on [this blog post by Noel Gorelick](https://gorelick.medium.com/fast-er-downloads-a2abd512aa26).\n",
    "\n",
    "Adapted from code provided by Markus Pettersson."
   ]
  },
  {
   "cell_type": "markdown",
   "metadata": {
    "pycharm": {
     "name": "#%% md\n"
    }
   },
   "source": [
    "Import, authenticate and initialize the earth-engine library"
   ]
  },
  {
   "cell_type": "code",
   "execution_count": 1,
   "metadata": {
    "pycharm": {
     "name": "#%%\n"
    }
   },
   "outputs": [
    {
     "data": {
      "text/html": [
       "<p>To authorize access needed by Earth Engine, open the following\n",
       "        URL in a web browser and follow the instructions:</p>\n",
       "        <p><a href=https://code.earthengine.google.com/client-auth?scopes=https%3A//www.googleapis.com/auth/earthengine%20https%3A//www.googleapis.com/auth/devstorage.full_control&request_id=7iYLF6SF2pEnJSiAubdH3lTJjHaNFbPHLR3GikgHOEg&tc=_dkmO295I_1b_yaws-67BtOnIWjTj12kj2hIpyLt_g4&cc=97ayNJIRrMJhbHRm6WHK6c99SkvSOFhNDx8DEP_Obms>https://code.earthengine.google.com/client-auth?scopes=https%3A//www.googleapis.com/auth/earthengine%20https%3A//www.googleapis.com/auth/devstorage.full_control&request_id=7iYLF6SF2pEnJSiAubdH3lTJjHaNFbPHLR3GikgHOEg&tc=_dkmO295I_1b_yaws-67BtOnIWjTj12kj2hIpyLt_g4&cc=97ayNJIRrMJhbHRm6WHK6c99SkvSOFhNDx8DEP_Obms</a></p>\n",
       "        <p>The authorization workflow will generate a code, which you should paste in the box below.</p>\n",
       "        "
      ],
      "text/plain": [
       "<IPython.core.display.HTML object>"
      ]
     },
     "metadata": {},
     "output_type": "display_data"
    },
    {
     "name": "stdout",
     "output_type": "stream",
     "text": [
      "Enter verification code: 4/1AfJohXkEeOWKps4TXYpc258gDnIVOCa7NjjV4r7Udd9aotr6tOgLHURQMlU\n",
      "\n",
      "Successfully saved authorization token.\n"
     ]
    }
   ],
   "source": [
    "import ee\n",
    "\n",
    "ee.Authenticate()\n",
    "\n",
    "# Initialize the Google Earth Engine API with the high volume end-point.\n",
    "# See https://developers.google.com/earth-engine/cloud/highvolume\n",
    "ee.Initialize(opt_url='https://earthengine-highvolume.googleapis.com')"
   ]
  },
  {
   "cell_type": "code",
   "execution_count": 3,
   "metadata": {},
   "outputs": [],
   "source": [
    "# Import other libraries\n",
    "import pandas as pd\n",
    "import os\n",
    "import satellite_sampling_annual_v2\n",
    "import datetime"
   ]
  },
  {
   "cell_type": "markdown",
   "metadata": {
    "pycharm": {
     "name": "#%% md\n"
    }
   },
   "source": [
    "Read the csv file with survey points"
   ]
  },
  {
   "cell_type": "code",
   "execution_count": 4,
   "metadata": {},
   "outputs": [
    {
     "data": {
      "text/html": [
       "<div>\n",
       "<style scoped>\n",
       "    .dataframe tbody tr th:only-of-type {\n",
       "        vertical-align: middle;\n",
       "    }\n",
       "\n",
       "    .dataframe tbody tr th {\n",
       "        vertical-align: top;\n",
       "    }\n",
       "\n",
       "    .dataframe thead th {\n",
       "        text-align: right;\n",
       "    }\n",
       "</style>\n",
       "<table border=\"1\" class=\"dataframe\">\n",
       "  <thead>\n",
       "    <tr style=\"text-align: right;\">\n",
       "      <th></th>\n",
       "      <th>country</th>\n",
       "      <th>survey_start_year</th>\n",
       "      <th>year</th>\n",
       "      <th>lat</th>\n",
       "      <th>lon</th>\n",
       "      <th>households</th>\n",
       "      <th>rural</th>\n",
       "      <th>iwi</th>\n",
       "      <th>dhs_id</th>\n",
       "      <th>image_file</th>\n",
       "      <th>...</th>\n",
       "      <th>iwi_1990_1992_est</th>\n",
       "      <th>iwi_1993_1995_est</th>\n",
       "      <th>iwi_1996_1998_est</th>\n",
       "      <th>iwi_1999_2001_est</th>\n",
       "      <th>iwi_2002_2004_est</th>\n",
       "      <th>iwi_2005_2007_est</th>\n",
       "      <th>iwi_2008_2010_est</th>\n",
       "      <th>iwi_2011_2013_est</th>\n",
       "      <th>iwi_2014_2016_est</th>\n",
       "      <th>iwi_2017_2019_est</th>\n",
       "    </tr>\n",
       "  </thead>\n",
       "  <tbody>\n",
       "    <tr>\n",
       "      <th>0</th>\n",
       "      <td>south_africa</td>\n",
       "      <td>2016</td>\n",
       "      <td>2016</td>\n",
       "      <td>-34.463232</td>\n",
       "      <td>19.542468</td>\n",
       "      <td>6</td>\n",
       "      <td>1</td>\n",
       "      <td>70.723295</td>\n",
       "      <td>48830</td>\n",
       "      <td>./data/dhs_tifs/south_africa_2016/00743.tif</td>\n",
       "      <td>...</td>\n",
       "      <td>35.205078</td>\n",
       "      <td>30.981445</td>\n",
       "      <td>33.911133</td>\n",
       "      <td>43.969727</td>\n",
       "      <td>38.295898</td>\n",
       "      <td>33.579102</td>\n",
       "      <td>32.757568</td>\n",
       "      <td>38.330078</td>\n",
       "      <td>44.604492</td>\n",
       "      <td>49.267578</td>\n",
       "    </tr>\n",
       "    <tr>\n",
       "      <th>1</th>\n",
       "      <td>south_africa</td>\n",
       "      <td>2016</td>\n",
       "      <td>2016</td>\n",
       "      <td>-34.418873</td>\n",
       "      <td>19.188926</td>\n",
       "      <td>11</td>\n",
       "      <td>0</td>\n",
       "      <td>76.798705</td>\n",
       "      <td>48781</td>\n",
       "      <td>./data/dhs_tifs/south_africa_2016/00694.tif</td>\n",
       "      <td>...</td>\n",
       "      <td>49.243164</td>\n",
       "      <td>53.222656</td>\n",
       "      <td>56.298830</td>\n",
       "      <td>59.228516</td>\n",
       "      <td>60.986330</td>\n",
       "      <td>63.515630</td>\n",
       "      <td>66.223145</td>\n",
       "      <td>66.455080</td>\n",
       "      <td>66.137695</td>\n",
       "      <td>64.501953</td>\n",
       "    </tr>\n",
       "    <tr>\n",
       "      <th>2</th>\n",
       "      <td>south_africa</td>\n",
       "      <td>2016</td>\n",
       "      <td>2016</td>\n",
       "      <td>-34.412835</td>\n",
       "      <td>19.178965</td>\n",
       "      <td>4</td>\n",
       "      <td>0</td>\n",
       "      <td>81.053723</td>\n",
       "      <td>48828</td>\n",
       "      <td>./data/dhs_tifs/south_africa_2016/00741.tif</td>\n",
       "      <td>...</td>\n",
       "      <td>48.388672</td>\n",
       "      <td>51.977540</td>\n",
       "      <td>54.443360</td>\n",
       "      <td>58.715820</td>\n",
       "      <td>60.419923</td>\n",
       "      <td>63.037110</td>\n",
       "      <td>66.430664</td>\n",
       "      <td>65.934247</td>\n",
       "      <td>66.186523</td>\n",
       "      <td>64.257810</td>\n",
       "    </tr>\n",
       "    <tr>\n",
       "      <th>3</th>\n",
       "      <td>south_africa</td>\n",
       "      <td>2016</td>\n",
       "      <td>2016</td>\n",
       "      <td>-34.292107</td>\n",
       "      <td>19.563813</td>\n",
       "      <td>6</td>\n",
       "      <td>1</td>\n",
       "      <td>72.766880</td>\n",
       "      <td>48787</td>\n",
       "      <td>./data/dhs_tifs/south_africa_2016/00700.tif</td>\n",
       "      <td>...</td>\n",
       "      <td>21.789551</td>\n",
       "      <td>22.222900</td>\n",
       "      <td>20.300293</td>\n",
       "      <td>25.082397</td>\n",
       "      <td>27.207032</td>\n",
       "      <td>27.719727</td>\n",
       "      <td>26.947020</td>\n",
       "      <td>34.114584</td>\n",
       "      <td>36.865234</td>\n",
       "      <td>42.041016</td>\n",
       "    </tr>\n",
       "    <tr>\n",
       "      <th>4</th>\n",
       "      <td>south_africa</td>\n",
       "      <td>2016</td>\n",
       "      <td>2016</td>\n",
       "      <td>-34.187500</td>\n",
       "      <td>22.113079</td>\n",
       "      <td>3</td>\n",
       "      <td>0</td>\n",
       "      <td>77.864113</td>\n",
       "      <td>48756</td>\n",
       "      <td>./data/dhs_tifs/south_africa_2016/00669.tif</td>\n",
       "      <td>...</td>\n",
       "      <td>44.042970</td>\n",
       "      <td>46.875000</td>\n",
       "      <td>49.617514</td>\n",
       "      <td>48.321533</td>\n",
       "      <td>53.232420</td>\n",
       "      <td>56.865233</td>\n",
       "      <td>65.014650</td>\n",
       "      <td>65.657550</td>\n",
       "      <td>72.900390</td>\n",
       "      <td>67.529297</td>\n",
       "    </tr>\n",
       "  </tbody>\n",
       "</table>\n",
       "<p>5 rows × 21 columns</p>\n",
       "</div>"
      ],
      "text/plain": [
       "        country  survey_start_year  year        lat        lon  households  \\\n",
       "0  south_africa               2016  2016 -34.463232  19.542468           6   \n",
       "1  south_africa               2016  2016 -34.418873  19.188926          11   \n",
       "2  south_africa               2016  2016 -34.412835  19.178965           4   \n",
       "3  south_africa               2016  2016 -34.292107  19.563813           6   \n",
       "4  south_africa               2016  2016 -34.187500  22.113079           3   \n",
       "\n",
       "   rural        iwi  dhs_id                                   image_file  ...  \\\n",
       "0      1  70.723295   48830  ./data/dhs_tifs/south_africa_2016/00743.tif  ...   \n",
       "1      0  76.798705   48781  ./data/dhs_tifs/south_africa_2016/00694.tif  ...   \n",
       "2      0  81.053723   48828  ./data/dhs_tifs/south_africa_2016/00741.tif  ...   \n",
       "3      1  72.766880   48787  ./data/dhs_tifs/south_africa_2016/00700.tif  ...   \n",
       "4      0  77.864113   48756  ./data/dhs_tifs/south_africa_2016/00669.tif  ...   \n",
       "\n",
       "  iwi_1990_1992_est  iwi_1993_1995_est  iwi_1996_1998_est  iwi_1999_2001_est  \\\n",
       "0         35.205078          30.981445          33.911133          43.969727   \n",
       "1         49.243164          53.222656          56.298830          59.228516   \n",
       "2         48.388672          51.977540          54.443360          58.715820   \n",
       "3         21.789551          22.222900          20.300293          25.082397   \n",
       "4         44.042970          46.875000          49.617514          48.321533   \n",
       "\n",
       "   iwi_2002_2004_est  iwi_2005_2007_est  iwi_2008_2010_est  iwi_2011_2013_est  \\\n",
       "0          38.295898          33.579102          32.757568          38.330078   \n",
       "1          60.986330          63.515630          66.223145          66.455080   \n",
       "2          60.419923          63.037110          66.430664          65.934247   \n",
       "3          27.207032          27.719727          26.947020          34.114584   \n",
       "4          53.232420          56.865233          65.014650          65.657550   \n",
       "\n",
       "   iwi_2014_2016_est  iwi_2017_2019_est  \n",
       "0          44.604492          49.267578  \n",
       "1          66.137695          64.501953  \n",
       "2          66.186523          64.257810  \n",
       "3          36.865234          42.041016  \n",
       "4          72.900390          67.529297  \n",
       "\n",
       "[5 rows x 21 columns]"
      ]
     },
     "execution_count": 4,
     "metadata": {},
     "output_type": "execute_result"
    }
   ],
   "source": [
    "interim_data_dir = '/mimer/NOBACKUP/groups/globalpoverty1/cindy/eoml_ch_wb/data/interim'\n",
    "dhs_cluster_file_path = os.path.join(interim_data_dir, 'dhs_est_iwi.csv')\n",
    "df = pd.read_csv(dhs_cluster_file_path)\n",
    "df.head()"
   ]
  },
  {
   "cell_type": "markdown",
   "metadata": {
    "pycharm": {
     "name": "#%% md\n"
    }
   },
   "source": [
    "Split the dataframe into each country-year combination:"
   ]
  },
  {
   "cell_type": "code",
   "execution_count": 5,
   "metadata": {},
   "outputs": [],
   "source": [
    "surveys_with_dfs = [(survey, survey_df.reset_index(drop=True)) for survey, survey_df in \n",
    "                    df.groupby(['country', 'year'])]"
   ]
  },
  {
   "cell_type": "markdown",
   "metadata": {},
   "source": [
    "Function for checking if sample is already downloaded, in case the script needs to be restarted for some reason"
   ]
  },
  {
   "cell_type": "code",
   "execution_count": 6,
   "metadata": {},
   "outputs": [],
   "source": [
    "def check_if_downloaded(row, save_dir, min_file_size=3145728):\n",
    "    file_name = f'{row.name:05d}.tif'\n",
    "    file_path = os.path.join(save_dir, file_name)\n",
    "    \n",
    "    # Check if file exists and is larger than min_file_size\n",
    "    return os.path.isfile(file_path) and (os.stat(file_path).st_size > min_file_size)"
   ]
  },
  {
   "cell_type": "markdown",
   "metadata": {},
   "source": [
    "Download each survey from Google Earth Engine"
   ]
  },
  {
   "cell_type": "code",
   "execution_count": 7,
   "metadata": {},
   "outputs": [
    {
     "name": "stdout",
     "output_type": "stream",
     "text": [
      "Downloading images for angola-2006...08.Oct 2023 08:44:20\n",
      "Downloading images for benin-1996...08.Oct 2023 08:46:42\n",
      "Downloading images for burkina_faso-1999...08.Oct 2023 08:51:40\n",
      "Downloading images for burundi-2010...08.Oct 2023 08:53:58\n",
      "Downloading images for cameroon-2004...08.Oct 2023 09:00:52\n",
      "Downloading images for central_african_republic-1995...08.Oct 2023 09:13:21\n",
      "Downloading images for chad-2014...08.Oct 2023 09:15:15\n",
      "Downloading images for comoros-2012...08.Oct 2023 09:23:00\n",
      "Downloading images for democratic_republic_of_congo-2007...08.Oct 2023 09:27:15\n",
      "Downloading images for egypt-1996...08.Oct 2023 09:38:03\n",
      "Downloading images for eswatini-2006...08.Oct 2023 09:38:51\n",
      "Downloading images for ethiopia-2000...08.Oct 2023 09:43:52\n",
      "Downloading images for gabon-2012...08.Oct 2023 10:08:13\n",
      "Downloading images for ghana-1999...08.Oct 2023 10:17:38\n",
      "Downloading images for guinea-1999...08.Oct 2023 10:21:35\n",
      "Downloading images for ivory_coast-1999...08.Oct 2023 10:31:25\n",
      "Downloading images for kenya-2003...08.Oct 2023 10:33:44\n",
      "Downloading images for lesotho-2004...08.Oct 2023 10:46:29\n",
      "Downloading images for liberia-2008...08.Oct 2023 10:54:55\n",
      "Downloading images for madagascar-1997...08.Oct 2023 10:55:41\n",
      "Downloading images for malawi-2000...08.Oct 2023 11:05:39\n",
      "Downloading images for mali-1996...08.Oct 2023 11:24:48\n",
      "Downloading images for morocco-2003...08.Oct 2023 11:31:50\n",
      "Downloading images for mozambique-2011...08.Oct 2023 11:46:59\n",
      "Downloading images for namibia-2000...08.Oct 2023 12:12:24\n",
      "Downloading images for niger-1998...08.Oct 2023 12:21:21\n",
      "Downloading images for nigeria-2003...08.Oct 2023 12:26:30\n",
      "Downloading images for rwanda-2005...08.Oct 2023 12:34:59\n",
      "Downloading images for senegal-1997...08.Oct 2023 12:46:21\n",
      "Downloading images for sierra_leone-2008...08.Oct 2023 12:56:00\n",
      "Downloading images for south_africa-2016...08.Oct 2023 13:06:46\n",
      "Downloading images for tanzania-1999...08.Oct 2023 13:36:25\n",
      "Downloading images for togo-1998...08.Oct 2023 13:42:25\n",
      "Downloading images for uganda-2000...08.Oct 2023 13:49:21\n",
      "Downloading images for zambia-2007...08.Oct 2023 13:53:50\n",
      "Downloading images for zimbabwe-1999...08.Oct 2023 14:06:37\n"
     ]
    }
   ],
   "source": [
    "for survey, survey_df in surveys_with_dfs:\n",
    "    country, year = survey\n",
    "    print(f'Downloading images for {country}-{year}...'+\n",
    "        datetime.datetime.now().strftime(\"%d.%b %Y %H:%M:%S\"))\n",
    "       \n",
    "    data_dir = '/mimer/NOBACKUP/groups/globalpoverty1/cindy/eoml_ch_wb/data/'    \n",
    "    save_dir = os.path.join(data_dir, f'dhs_tifs_annual/{country}_{year}')        \n",
    "           \n",
    "    # Check if survey is already fully/partially downloaded\n",
    "    if os.path.exists(save_dir):\n",
    "        is_downloaded = survey_df.apply(lambda row: check_if_downloaded(row, save_dir), axis=1)\n",
    "        samples_to_download = survey_df[~is_downloaded]\n",
    "    else:\n",
    "        os.makedirs(save_dir)\n",
    "        samples_to_download = survey_df\n",
    "    \n",
    "    # If there are no samples to download for this survey, continue to next one\n",
    "    if len(samples_to_download) == 0:\n",
    "        continue\n",
    "    \n",
    "    satellite_sampling_annual_v2.export_images(samples_to_download, save_dir, span_length=1)"
   ]
  },
  {
   "cell_type": "code",
   "execution_count": null,
   "metadata": {},
   "outputs": [],
   "source": []
  },
  {
   "cell_type": "code",
   "execution_count": null,
   "metadata": {},
   "outputs": [],
   "source": []
  },
  {
   "cell_type": "code",
   "execution_count": null,
   "metadata": {},
   "outputs": [],
   "source": []
  }
 ],
 "metadata": {
  "kernelspec": {
   "display_name": "Python 3 (ipykernel)",
   "language": "python",
   "name": "python3"
  },
  "language_info": {
   "codemirror_mode": {
    "name": "ipython",
    "version": 3
   },
   "file_extension": ".py",
   "mimetype": "text/x-python",
   "name": "python",
   "nbconvert_exporter": "python",
   "pygments_lexer": "ipython3",
   "version": "3.8.13"
  }
 },
 "nbformat": 4,
 "nbformat_minor": 4
}
