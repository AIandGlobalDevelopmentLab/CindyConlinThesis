{
 "cells": [
  {
   "cell_type": "markdown",
   "metadata": {},
   "source": [
    "# Download annual per capita nightlights \n",
    "\n",
    "Create a csv file with annual per capita nightlight values over DHS clusters, for years 2000 to 2013."
   ]
  },
  {
   "cell_type": "markdown",
   "metadata": {
    "pycharm": {
     "name": "#%% md\n"
    }
   },
   "source": [
    "Import, authenticate and initialize the earth-engine library"
   ]
  },
  {
   "cell_type": "code",
   "execution_count": null,
   "metadata": {
    "pycharm": {
     "name": "#%%\n"
    }
   },
   "outputs": [],
   "source": [
    "import ee\n",
    "\n",
    "ee.Authenticate()\n",
    "\n",
    "ee.Initialize()"
   ]
  },
  {
   "cell_type": "code",
   "execution_count": null,
   "metadata": {},
   "outputs": [],
   "source": [
    "# Import other libraries\n",
    "import csv\n",
    "import os\n",
    "import pandas as pd"
   ]
  },
  {
   "cell_type": "markdown",
   "metadata": {
    "pycharm": {
     "name": "#%% md\n"
    }
   },
   "source": [
    "Read the csv file with survey points"
   ]
  },
  {
   "cell_type": "code",
   "execution_count": null,
   "metadata": {},
   "outputs": [],
   "source": [
    "data_dir = '/mimer/NOBACKUP/groups/globalpoverty1/cindy/eoml_ch_wb/data/interim'\n",
    "dhs_cluster_file_path = os.path.join(data_dir, 'dhs_treat_control_confounders.csv')\n",
    "df = pd.read_csv(dhs_cluster_file_path)\n",
    "unique_countries = df['country'].unique()\n",
    "df.head()"
   ]
  },
  {
   "cell_type": "markdown",
   "metadata": {},
   "source": [
    "Function to create a feature with a 6.7km square around a lat/lon"
   ]
  },
  {
   "cell_type": "code",
   "execution_count": null,
   "metadata": {},
   "outputs": [],
   "source": [
    "def createDHSFeature(row):\n",
    "  lat = ee.Number(row['lat'])\n",
    "  lon = ee.Number(row['lon'])\n",
    "  dhs_id = ee.Number(row['dhs_id'])\n",
    "  properties = {'dhs_id':dhs_id,\n",
    "               'lat':lat,\n",
    "               'lon':lon}\n",
    "    \n",
    "  #Calc coordinates of a 6.7km bounding box around the point\n",
    "  feature_radius=3350\n",
    "  roi = ee.Geometry.Point(lon,lat).buffer(feature_radius).bounds()\n",
    "\n",
    "  return ee.Feature(roi, properties)"
   ]
  },
  {
   "cell_type": "markdown",
   "metadata": {
    "pycharm": {
     "name": "#%% md\n"
    }
   },
   "source": [
    "Load nightlight and population density collections over the African continent"
   ]
  },
  {
   "cell_type": "code",
   "execution_count": null,
   "metadata": {},
   "outputs": [],
   "source": [
    "africa_region = ee.Geometry.Polygon([\n",
    "    [-20, 38],   \n",
    "    [55, 38],    \n",
    "    [55, -36],   \n",
    "    [-20, -36]   \n",
    "])\n",
    "\n",
    "dmsp = ee.ImageCollection('NOAA/DMSP-OLS/NIGHTTIME_LIGHTS').filterBounds(africa_region)\n",
    "pop_count = ee.ImageCollection(ee.ImageCollection(\"WorldPop/GP/100m/pop\")).filterBounds(africa_region)\n",
    "\n",
    "#get a composite image for each nighlight year and store in a dictionary\n",
    "dmsp_images = {}\n",
    "for year in range(2000, 2014):\n",
    "    start_date = f\"{year}-01-01\"\n",
    "    end_date = f\"{year}-12-31\"\n",
    "    \n",
    "    # Construct the variable name\n",
    "    variable_name = f\"dmsp{year}img\"\n",
    "    img = dmsp.filterDate(start_date, end_date).select([\"avg_vis\"]).median()\n",
    "    \n",
    "    # Create the image using the filterDate and select operations\n",
    "    dmsp_images[year] = {'img':img,'year':year}\n",
    "    \n",
    "#loop makes code below unnecessary\n",
    "# dmsp2000img = dmsp.filterDate('2000-01-01', '2000-12-31').select([\"avg_vis\"]).median()\n",
    "# dmsp2001img = dmsp.filterDate('2001-01-01', '2001-12-31').select([\"avg_vis\"]).median()\n",
    "# dmsp2002img = dmsp.filterDate('2002-01-01', '2002-12-31').select([\"avg_vis\"]).median()\n",
    "# dmsp2003img = dmsp.filterDate('2003-01-01', '2003-12-31').select([\"avg_vis\"]).median()\n",
    "# dmsp2004img = dmsp.filterDate('2004-01-01', '2004-12-31').select([\"avg_vis\"]).median()\n",
    "# dmsp2005img = dmsp.filterDate('2005-01-01', '2005-12-31').select([\"avg_vis\"]).median()\n",
    "# dmsp2006img = dmsp.filterDate('2006-01-01', '2006-12-31').select([\"avg_vis\"]).median()\n",
    "# dmsp2007img = dmsp.filterDate('2007-01-01', '2007-12-31').select([\"avg_vis\"]).median()\n",
    "# dmsp2008img = dmsp.filterDate('2008-01-01', '2008-12-31').select([\"avg_vis\"]).median()\n",
    "# dmsp2009img = dmsp.filterDate('2009-01-01', '2009-12-31').select([\"avg_vis\"]).median()\n",
    "# dmsp2010img = dmsp.filterDate('2010-01-01', '2010-12-31').select([\"avg_vis\"]).median()\n",
    "# dmsp2011img = dmsp.filterDate('2011-01-01', '2011-12-31').select([\"avg_vis\"]).median()\n",
    "# dmsp2012img = dmsp.filterDate('2012-01-01', '2012-12-31').select([\"avg_vis\"]).median()\n",
    "# dmsp2013img = dmsp.filterDate('2013-01-01', '2013-12-31').select([\"avg_vis\"]).median()\n",
    "\n",
    "\n",
    "pop_count_images = {}\n",
    "years_to_extract = [2000, 2005, 2010]  \n",
    "#years_to_extract = [2010]  \n",
    "\n",
    "for year in years_to_extract:\n",
    "    start_date = f\"{year}-01-01\"\n",
    "    end_date = f\"{year}-12-31\"\n",
    "    \n",
    "    # Construct the variable name\n",
    "    variable_name = f\"pop_count{year}img\"\n",
    "    \n",
    "    # Create the image using the filterDate operation\n",
    "    img = pop_count.filterDate(start_date, end_date).select([\"population\"]).first()\n",
    "    \n",
    "    # Store the image using the variable name\n",
    "    pop_count_images[year] = {'img':img,'year':year}\n",
    "\n",
    "#Loop makes code below unnecessary\n",
    "# pop_count2000img = pop_count.filterDate('2000-01-01', '2000-12-31').select([\"population\"]).first()\n",
    "# pop_count2005img = pop_count.filterDate('2005-01-01', '2005-12-31').select([\"population\"]).first()\n",
    "# pop_count2010img = pop_count.filterDate('2010-01-01', '2010-12-31').select([\"population\"]).first()"
   ]
  },
  {
   "cell_type": "markdown",
   "metadata": {},
   "source": [
    "Function to calculate sum of nightlights within a 6.7km2 square"
   ]
  },
  {
   "cell_type": "code",
   "execution_count": null,
   "metadata": {},
   "outputs": [],
   "source": [
    "def calculate_nl_sums(feature):\n",
    "    return_feature_set = {}   #initialize empty dictionary to return\n",
    "    \n",
    "    #calculate annual nighlight sums\n",
    "    for year, data in dmsp_images.items():\n",
    "        img = data['img']\n",
    "        year_value = data['year']\n",
    "\n",
    "        nlyear = img.reduceRegion(\n",
    "            reducer=ee.Reducer.sum(),\n",
    "            geometry=feature.geometry(),\n",
    "            scale=927.67\n",
    "        )\n",
    "        sum_nlyear = nlyear.getNumber('avg_vis')\n",
    "        rounded_nlyear = ee.Number(sum_nlyear).format('%.1f')\n",
    "\n",
    "        #append this year to the feature set\n",
    "        prop_name = f'nl{year_value}'\n",
    "        return_feature_set[prop_name] = rounded_nlyear \n",
    "        \n",
    "    return feature.set(return_feature_set)"
   ]
  },
  {
   "cell_type": "markdown",
   "metadata": {},
   "source": [
    "Function to calculate sum of population within a 6.7km2 square"
   ]
  },
  {
   "cell_type": "code",
   "execution_count": null,
   "metadata": {},
   "outputs": [],
   "source": [
    "def calculate_popcount_sums(feature):\n",
    "    return_feature_set = {}   #initialize empty dictionary to return\n",
    "         \n",
    "    #calculate 5-year pop count sums\n",
    "    for year, data in pop_count_images.items():\n",
    "        img = data['img']\n",
    "        year_value = data['year']\n",
    "        \n",
    "        pcountyear = img.reduceRegion(\n",
    "            reducer=ee.Reducer.sum(),\n",
    "            geometry=feature.geometry(),\n",
    "            scale=92.77\n",
    "        )\n",
    "        sum_pcountyear = pcountyear.getNumber('population')\n",
    "        rounded_sum_pcountyear = ee.Number(sum_pcountyear).format('%.1f')\n",
    "\n",
    "        #append this year to the feature set\n",
    "        prop_name = f'pop_count{year_value}'\n",
    "        return_feature_set[prop_name] = rounded_sum_pcountyear  \n",
    "    \n",
    "    return feature.set(return_feature_set)"
   ]
  },
  {
   "cell_type": "markdown",
   "metadata": {},
   "source": [
    "Get data a country at a time, write to a csv file"
   ]
  },
  {
   "cell_type": "code",
   "execution_count": null,
   "metadata": {
    "scrolled": true
   },
   "outputs": [],
   "source": [
    "# Prepare csv file details\n",
    "csv_file_path = '/mimer/NOBACKUP/groups/globalpoverty1/cindy/eoml_ch_wb/data/per_cap_nl_dhs_WorldPop.csv'\n",
    "header = ['dhs_id', 'lat', 'lon', 'nl2000', 'nl2001', 'nl2002',\n",
    "         'nl2003','nl2004','nl2005','nl2006','nl2007','nl2008',\n",
    "          'nl2009','nl2010','nl2011','nl2012','nl2013','pop_count2000',\n",
    "         'pop_count2005','pop_count2010']\n",
    "\n",
    "# Initialize a list to store the rows for all countries\n",
    "rows = []\n",
    "\n",
    "#loop through countries, getting the data and appending to rows list\n",
    "for country in unique_countries:\n",
    "    country_df = df[df['country'] == country]\n",
    "    print(f\"Starting: {country}, with n rows: {len(rows)}\")\n",
    "\n",
    "    # create list of features from the country dataframe\n",
    "    feature_list = [createDHSFeature(row) for index, row in country_df.iterrows()]\n",
    "\n",
    "    # Create a Feature Collection from the list of features\n",
    "    country_collection = ee.FeatureCollection(feature_list)\n",
    "\n",
    "    # calculate nightlights and population count sums\n",
    "    country_collection2 = country_collection.map(calculate_nl_sums)\n",
    "    country_collection3 = country_collection2.map(calculate_popcount_sums)\n",
    "\n",
    "    # Loop through the features in the collection and extract the data\n",
    "    for feature in country_collection3.getInfo()['features']:\n",
    "        properties = feature['properties']\n",
    "        row = [\n",
    "            properties['dhs_id'],\n",
    "            properties['lat'],\n",
    "            properties['lon'],\n",
    "            properties['nl2000'],\n",
    "            properties['nl2001'],\n",
    "            properties['nl2002'],\n",
    "            properties['nl2003'],\n",
    "            properties['nl2004'],\n",
    "            properties['nl2005'],\n",
    "            properties['nl2006'],\n",
    "            properties['nl2007'],\n",
    "            properties['nl2008'],\n",
    "            properties['nl2009'],\n",
    "            properties['nl2010'],\n",
    "            properties['nl2011'],\n",
    "            properties['nl2012'],\n",
    "            properties['nl2013'],\n",
    "            properties['pop_count2000'],\n",
    "            properties['pop_count2005'],\n",
    "            properties['pop_count2010']      \n",
    "        ]\n",
    "        rows.append(row)\n",
    "        \n",
    "\n",
    "#Open and write to the csv file; with will close it\n",
    "with open(csv_file_path, 'w', newline='') as csvfile:\n",
    "    csv_writer = csv.writer(csvfile)\n",
    "    csv_writer.writerow(header)\n",
    "    csv_writer.writerows(rows)\n",
    "\n",
    "print(\"CSV file has been successfully written.\")"
   ]
  },
  {
   "cell_type": "code",
   "execution_count": null,
   "metadata": {},
   "outputs": [],
   "source": []
  },
  {
   "cell_type": "code",
   "execution_count": null,
   "metadata": {},
   "outputs": [],
   "source": []
  },
  {
   "cell_type": "code",
   "execution_count": null,
   "metadata": {},
   "outputs": [],
   "source": []
  }
 ],
 "metadata": {
  "kernelspec": {
   "display_name": "Python 3 (ipykernel)",
   "language": "python",
   "name": "python3"
  },
  "language_info": {
   "codemirror_mode": {
    "name": "ipython",
    "version": 3
   },
   "file_extension": ".py",
   "mimetype": "text/x-python",
   "name": "python",
   "nbconvert_exporter": "python",
   "pygments_lexer": "ipython3",
   "version": "3.8.13"
  }
 },
 "nbformat": 4,
 "nbformat_minor": 4
}
